{
 "cells": [
  {
   "cell_type": "markdown",
   "id": "00b5cdc9",
   "metadata": {},
   "source": [
    "## Catedra 1: Análisis de datos.\n",
    "\n",
    "### Integrantes:\n",
    "\n",
    "#### Yuritza Aros\n",
    "#### Pablo Miranda \n",
    "\n",
    "### Fecha: \n",
    "\n",
    "#### 29/11/2021 \n",
    "\n",
    "\n",
    "\n",
    "## Sección 2:\n",
    "\n",
    "Importar su conjunto de datos (puede encontrar la info acá) a un Jupyter\n",
    "Notebook y realizar estadística descriptiva.\n",
    "\n",
    "#### Los elementos mínimos a construir son:\n",
    "\n",
    "1. Promedio.\n",
    "2. Mediana.\n",
    "3. Moda.\n",
    "4. Cuartiles.\n",
    "5. Percentiles.\n",
    "6. Varianza.\n",
    "7. Rango.\n",
    "8. Desviación estándar.\n",
    "\n",
    "Es libre de agregar los elementos que sean necesarios.\n",
    "\n",
    "## 3.3 Sección 3:\n",
    "\n",
    "Realizar un análisis exploratorio del dataset elegido incluyendo las siguientes visualizaciones (según corresponda):\n",
    "\n",
    "1. Gráficos de dispersión\n",
    "2. Gráficos de barra\n",
    "3. Histogramas de frecuencia\n",
    "4. Diagramas de cajas\n",
    "5. Gráficos de barras\n",
    "6. Identificar valores faltantes (NA)\n",
    "7. Identificar valores inusuales (outliers)\n",
    "8. Identificar tipos de variables (númericas y/o categóricas)\n",
    "\n",
    "#### En el Jupyter Notebooke deberá describir y detallar los resultados del análisis exploratorio, incluyendo las visualizaciones. Justificar porque se eligió cada visualización acorde al tipo de variables.\n",
    "\n",
    "\n",
    "\n"
   ]
  },
  {
   "cell_type": "markdown",
   "id": "8f2254cc",
   "metadata": {},
   "source": [
    "## Primer paso:\n",
    "\n",
    "Importamos todas las librerías necesarias para la realización de nuestro ejercicio."
   ]
  },
  {
   "cell_type": "code",
   "execution_count": 34,
   "id": "ce521980",
   "metadata": {},
   "outputs": [],
   "source": [
    "import numpy as np\n",
    "from scipy import stats\n",
    "import pandas as pd\n",
    "import matplotlib.pyplot as plt\n",
    "import statistics"
   ]
  },
  {
   "cell_type": "markdown",
   "id": "393563d3",
   "metadata": {},
   "source": [
    "## Segundo Paso:\n",
    "\n",
    "Ya importado pandas abrimos nuestro archivo Csv donde veremos la visualización de el mismo con todos sus datos tanto en filas como columnas."
   ]
  },
  {
   "cell_type": "code",
   "execution_count": 4,
   "id": "60a4e857",
   "metadata": {},
   "outputs": [],
   "source": [
    "autismo= pd.read_csv(\"data/csv_result-Autism-Child-Data.csv\")"
   ]
  },
  {
   "cell_type": "code",
   "execution_count": 5,
   "id": "de22b878",
   "metadata": {},
   "outputs": [
    {
     "data": {
      "text/html": [
       "<div>\n",
       "<style scoped>\n",
       "    .dataframe tbody tr th:only-of-type {\n",
       "        vertical-align: middle;\n",
       "    }\n",
       "\n",
       "    .dataframe tbody tr th {\n",
       "        vertical-align: top;\n",
       "    }\n",
       "\n",
       "    .dataframe thead th {\n",
       "        text-align: right;\n",
       "    }\n",
       "</style>\n",
       "<table border=\"1\" class=\"dataframe\">\n",
       "  <thead>\n",
       "    <tr style=\"text-align: right;\">\n",
       "      <th></th>\n",
       "      <th>id</th>\n",
       "      <th>A1_Score</th>\n",
       "      <th>A2_Score</th>\n",
       "      <th>A3_Score</th>\n",
       "      <th>A4_Score</th>\n",
       "      <th>A5_Score</th>\n",
       "      <th>A6_Score</th>\n",
       "      <th>A7_Score</th>\n",
       "      <th>A8_Score</th>\n",
       "      <th>A9_Score</th>\n",
       "      <th>...</th>\n",
       "      <th>gender</th>\n",
       "      <th>ethnicity</th>\n",
       "      <th>jundice</th>\n",
       "      <th>austim</th>\n",
       "      <th>contry_of_res</th>\n",
       "      <th>used_app_before</th>\n",
       "      <th>result</th>\n",
       "      <th>age_desc</th>\n",
       "      <th>relation</th>\n",
       "      <th>Class/ASD</th>\n",
       "    </tr>\n",
       "  </thead>\n",
       "  <tbody>\n",
       "    <tr>\n",
       "      <th>0</th>\n",
       "      <td>1</td>\n",
       "      <td>1</td>\n",
       "      <td>1</td>\n",
       "      <td>0</td>\n",
       "      <td>0</td>\n",
       "      <td>1</td>\n",
       "      <td>1</td>\n",
       "      <td>0</td>\n",
       "      <td>1</td>\n",
       "      <td>0</td>\n",
       "      <td>...</td>\n",
       "      <td>m</td>\n",
       "      <td>Others</td>\n",
       "      <td>no</td>\n",
       "      <td>no</td>\n",
       "      <td>Jordan</td>\n",
       "      <td>no</td>\n",
       "      <td>5</td>\n",
       "      <td>4-11 years</td>\n",
       "      <td>Parent</td>\n",
       "      <td>NO</td>\n",
       "    </tr>\n",
       "    <tr>\n",
       "      <th>1</th>\n",
       "      <td>2</td>\n",
       "      <td>1</td>\n",
       "      <td>1</td>\n",
       "      <td>0</td>\n",
       "      <td>0</td>\n",
       "      <td>1</td>\n",
       "      <td>1</td>\n",
       "      <td>0</td>\n",
       "      <td>1</td>\n",
       "      <td>0</td>\n",
       "      <td>...</td>\n",
       "      <td>m</td>\n",
       "      <td>Middle Eastern</td>\n",
       "      <td>no</td>\n",
       "      <td>no</td>\n",
       "      <td>Jordan</td>\n",
       "      <td>no</td>\n",
       "      <td>5</td>\n",
       "      <td>4-11 years</td>\n",
       "      <td>Parent</td>\n",
       "      <td>NO</td>\n",
       "    </tr>\n",
       "    <tr>\n",
       "      <th>2</th>\n",
       "      <td>3</td>\n",
       "      <td>1</td>\n",
       "      <td>1</td>\n",
       "      <td>0</td>\n",
       "      <td>0</td>\n",
       "      <td>0</td>\n",
       "      <td>1</td>\n",
       "      <td>1</td>\n",
       "      <td>1</td>\n",
       "      <td>0</td>\n",
       "      <td>...</td>\n",
       "      <td>m</td>\n",
       "      <td>?</td>\n",
       "      <td>no</td>\n",
       "      <td>no</td>\n",
       "      <td>Jordan</td>\n",
       "      <td>yes</td>\n",
       "      <td>5</td>\n",
       "      <td>4-11 years</td>\n",
       "      <td>?</td>\n",
       "      <td>NO</td>\n",
       "    </tr>\n",
       "    <tr>\n",
       "      <th>3</th>\n",
       "      <td>4</td>\n",
       "      <td>0</td>\n",
       "      <td>1</td>\n",
       "      <td>0</td>\n",
       "      <td>0</td>\n",
       "      <td>1</td>\n",
       "      <td>1</td>\n",
       "      <td>0</td>\n",
       "      <td>0</td>\n",
       "      <td>0</td>\n",
       "      <td>...</td>\n",
       "      <td>f</td>\n",
       "      <td>?</td>\n",
       "      <td>yes</td>\n",
       "      <td>no</td>\n",
       "      <td>Jordan</td>\n",
       "      <td>no</td>\n",
       "      <td>4</td>\n",
       "      <td>4-11 years</td>\n",
       "      <td>?</td>\n",
       "      <td>NO</td>\n",
       "    </tr>\n",
       "    <tr>\n",
       "      <th>4</th>\n",
       "      <td>5</td>\n",
       "      <td>1</td>\n",
       "      <td>1</td>\n",
       "      <td>1</td>\n",
       "      <td>1</td>\n",
       "      <td>1</td>\n",
       "      <td>1</td>\n",
       "      <td>1</td>\n",
       "      <td>1</td>\n",
       "      <td>1</td>\n",
       "      <td>...</td>\n",
       "      <td>m</td>\n",
       "      <td>Others</td>\n",
       "      <td>yes</td>\n",
       "      <td>no</td>\n",
       "      <td>United States</td>\n",
       "      <td>no</td>\n",
       "      <td>10</td>\n",
       "      <td>4-11 years</td>\n",
       "      <td>Parent</td>\n",
       "      <td>YES</td>\n",
       "    </tr>\n",
       "    <tr>\n",
       "      <th>...</th>\n",
       "      <td>...</td>\n",
       "      <td>...</td>\n",
       "      <td>...</td>\n",
       "      <td>...</td>\n",
       "      <td>...</td>\n",
       "      <td>...</td>\n",
       "      <td>...</td>\n",
       "      <td>...</td>\n",
       "      <td>...</td>\n",
       "      <td>...</td>\n",
       "      <td>...</td>\n",
       "      <td>...</td>\n",
       "      <td>...</td>\n",
       "      <td>...</td>\n",
       "      <td>...</td>\n",
       "      <td>...</td>\n",
       "      <td>...</td>\n",
       "      <td>...</td>\n",
       "      <td>...</td>\n",
       "      <td>...</td>\n",
       "      <td>...</td>\n",
       "    </tr>\n",
       "    <tr>\n",
       "      <th>287</th>\n",
       "      <td>288</td>\n",
       "      <td>1</td>\n",
       "      <td>1</td>\n",
       "      <td>1</td>\n",
       "      <td>1</td>\n",
       "      <td>1</td>\n",
       "      <td>1</td>\n",
       "      <td>1</td>\n",
       "      <td>1</td>\n",
       "      <td>1</td>\n",
       "      <td>...</td>\n",
       "      <td>f</td>\n",
       "      <td>White-European</td>\n",
       "      <td>yes</td>\n",
       "      <td>yes</td>\n",
       "      <td>United Kingdom</td>\n",
       "      <td>no</td>\n",
       "      <td>10</td>\n",
       "      <td>4-11 years</td>\n",
       "      <td>Parent</td>\n",
       "      <td>YES</td>\n",
       "    </tr>\n",
       "    <tr>\n",
       "      <th>288</th>\n",
       "      <td>289</td>\n",
       "      <td>1</td>\n",
       "      <td>0</td>\n",
       "      <td>0</td>\n",
       "      <td>0</td>\n",
       "      <td>1</td>\n",
       "      <td>0</td>\n",
       "      <td>1</td>\n",
       "      <td>0</td>\n",
       "      <td>0</td>\n",
       "      <td>...</td>\n",
       "      <td>f</td>\n",
       "      <td>White-European</td>\n",
       "      <td>yes</td>\n",
       "      <td>yes</td>\n",
       "      <td>Australia</td>\n",
       "      <td>no</td>\n",
       "      <td>4</td>\n",
       "      <td>4-11 years</td>\n",
       "      <td>Parent</td>\n",
       "      <td>NO</td>\n",
       "    </tr>\n",
       "    <tr>\n",
       "      <th>289</th>\n",
       "      <td>290</td>\n",
       "      <td>1</td>\n",
       "      <td>0</td>\n",
       "      <td>1</td>\n",
       "      <td>1</td>\n",
       "      <td>1</td>\n",
       "      <td>1</td>\n",
       "      <td>1</td>\n",
       "      <td>0</td>\n",
       "      <td>0</td>\n",
       "      <td>...</td>\n",
       "      <td>m</td>\n",
       "      <td>Latino</td>\n",
       "      <td>no</td>\n",
       "      <td>no</td>\n",
       "      <td>Brazil</td>\n",
       "      <td>no</td>\n",
       "      <td>7</td>\n",
       "      <td>4-11 years</td>\n",
       "      <td>Parent</td>\n",
       "      <td>YES</td>\n",
       "    </tr>\n",
       "    <tr>\n",
       "      <th>290</th>\n",
       "      <td>291</td>\n",
       "      <td>1</td>\n",
       "      <td>1</td>\n",
       "      <td>1</td>\n",
       "      <td>0</td>\n",
       "      <td>1</td>\n",
       "      <td>1</td>\n",
       "      <td>1</td>\n",
       "      <td>1</td>\n",
       "      <td>1</td>\n",
       "      <td>...</td>\n",
       "      <td>m</td>\n",
       "      <td>South Asian</td>\n",
       "      <td>no</td>\n",
       "      <td>no</td>\n",
       "      <td>India</td>\n",
       "      <td>no</td>\n",
       "      <td>9</td>\n",
       "      <td>4-11 years</td>\n",
       "      <td>Parent</td>\n",
       "      <td>YES</td>\n",
       "    </tr>\n",
       "    <tr>\n",
       "      <th>291</th>\n",
       "      <td>292</td>\n",
       "      <td>0</td>\n",
       "      <td>0</td>\n",
       "      <td>1</td>\n",
       "      <td>0</td>\n",
       "      <td>1</td>\n",
       "      <td>0</td>\n",
       "      <td>1</td>\n",
       "      <td>0</td>\n",
       "      <td>0</td>\n",
       "      <td>...</td>\n",
       "      <td>f</td>\n",
       "      <td>South Asian</td>\n",
       "      <td>no</td>\n",
       "      <td>no</td>\n",
       "      <td>India</td>\n",
       "      <td>no</td>\n",
       "      <td>3</td>\n",
       "      <td>4-11 years</td>\n",
       "      <td>Parent</td>\n",
       "      <td>NO</td>\n",
       "    </tr>\n",
       "  </tbody>\n",
       "</table>\n",
       "<p>292 rows × 22 columns</p>\n",
       "</div>"
      ],
      "text/plain": [
       "      id  A1_Score  A2_Score  A3_Score  A4_Score  A5_Score  A6_Score  \\\n",
       "0      1         1         1         0         0         1         1   \n",
       "1      2         1         1         0         0         1         1   \n",
       "2      3         1         1         0         0         0         1   \n",
       "3      4         0         1         0         0         1         1   \n",
       "4      5         1         1         1         1         1         1   \n",
       "..   ...       ...       ...       ...       ...       ...       ...   \n",
       "287  288         1         1         1         1         1         1   \n",
       "288  289         1         0         0         0         1         0   \n",
       "289  290         1         0         1         1         1         1   \n",
       "290  291         1         1         1         0         1         1   \n",
       "291  292         0         0         1         0         1         0   \n",
       "\n",
       "     A7_Score  A8_Score  A9_Score  ...  gender        ethnicity jundice  \\\n",
       "0           0         1         0  ...       m           Others      no   \n",
       "1           0         1         0  ...       m  Middle Eastern       no   \n",
       "2           1         1         0  ...       m                ?      no   \n",
       "3           0         0         0  ...       f                ?     yes   \n",
       "4           1         1         1  ...       m           Others     yes   \n",
       "..        ...       ...       ...  ...     ...              ...     ...   \n",
       "287         1         1         1  ...       f   White-European     yes   \n",
       "288         1         0         0  ...       f   White-European     yes   \n",
       "289         1         0         0  ...       m           Latino      no   \n",
       "290         1         1         1  ...       m      South Asian      no   \n",
       "291         1         0         0  ...       f      South Asian      no   \n",
       "\n",
       "    austim   contry_of_res used_app_before result    age_desc  relation  \\\n",
       "0       no          Jordan              no      5  4-11 years    Parent   \n",
       "1       no          Jordan              no      5  4-11 years    Parent   \n",
       "2       no          Jordan             yes      5  4-11 years         ?   \n",
       "3       no          Jordan              no      4  4-11 years         ?   \n",
       "4       no   United States              no     10  4-11 years    Parent   \n",
       "..     ...             ...             ...    ...         ...       ...   \n",
       "287    yes  United Kingdom              no     10  4-11 years    Parent   \n",
       "288    yes       Australia              no      4  4-11 years    Parent   \n",
       "289     no          Brazil              no      7  4-11 years    Parent   \n",
       "290     no           India              no      9  4-11 years    Parent   \n",
       "291     no           India              no      3  4-11 years    Parent   \n",
       "\n",
       "    Class/ASD  \n",
       "0          NO  \n",
       "1          NO  \n",
       "2          NO  \n",
       "3          NO  \n",
       "4         YES  \n",
       "..        ...  \n",
       "287       YES  \n",
       "288        NO  \n",
       "289       YES  \n",
       "290       YES  \n",
       "291        NO  \n",
       "\n",
       "[292 rows x 22 columns]"
      ]
     },
     "execution_count": 5,
     "metadata": {},
     "output_type": "execute_result"
    }
   ],
   "source": [
    "autismo"
   ]
  },
  {
   "cell_type": "markdown",
   "id": "88bea092",
   "metadata": {},
   "source": [
    "## Describe () \n",
    "\n",
    "Es una función de pandas que se utiliza para encontrar datos estadísticos dentro de un DataFrame, mas simple dentro de nuestro mismo Csv, en esta función se deja mostrado nuestros percentiles, cuartiles y nuestra mediana. "
   ]
  },
  {
   "cell_type": "code",
   "execution_count": 6,
   "id": "8f1eb62c",
   "metadata": {
    "scrolled": true
   },
   "outputs": [
    {
     "data": {
      "text/html": [
       "<div>\n",
       "<style scoped>\n",
       "    .dataframe tbody tr th:only-of-type {\n",
       "        vertical-align: middle;\n",
       "    }\n",
       "\n",
       "    .dataframe tbody tr th {\n",
       "        vertical-align: top;\n",
       "    }\n",
       "\n",
       "    .dataframe thead th {\n",
       "        text-align: right;\n",
       "    }\n",
       "</style>\n",
       "<table border=\"1\" class=\"dataframe\">\n",
       "  <thead>\n",
       "    <tr style=\"text-align: right;\">\n",
       "      <th></th>\n",
       "      <th>id</th>\n",
       "      <th>A1_Score</th>\n",
       "      <th>A2_Score</th>\n",
       "      <th>A3_Score</th>\n",
       "      <th>A4_Score</th>\n",
       "      <th>A5_Score</th>\n",
       "      <th>A6_Score</th>\n",
       "      <th>A7_Score</th>\n",
       "      <th>A8_Score</th>\n",
       "      <th>A9_Score</th>\n",
       "      <th>A10_Score</th>\n",
       "      <th>result</th>\n",
       "    </tr>\n",
       "  </thead>\n",
       "  <tbody>\n",
       "    <tr>\n",
       "      <th>count</th>\n",
       "      <td>292.000000</td>\n",
       "      <td>292.000000</td>\n",
       "      <td>292.000000</td>\n",
       "      <td>292.000000</td>\n",
       "      <td>292.000000</td>\n",
       "      <td>292.000000</td>\n",
       "      <td>292.000000</td>\n",
       "      <td>292.000000</td>\n",
       "      <td>292.000000</td>\n",
       "      <td>292.000000</td>\n",
       "      <td>292.000000</td>\n",
       "      <td>292.000000</td>\n",
       "    </tr>\n",
       "    <tr>\n",
       "      <th>mean</th>\n",
       "      <td>146.500000</td>\n",
       "      <td>0.633562</td>\n",
       "      <td>0.534247</td>\n",
       "      <td>0.743151</td>\n",
       "      <td>0.551370</td>\n",
       "      <td>0.743151</td>\n",
       "      <td>0.712329</td>\n",
       "      <td>0.606164</td>\n",
       "      <td>0.496575</td>\n",
       "      <td>0.493151</td>\n",
       "      <td>0.726027</td>\n",
       "      <td>6.239726</td>\n",
       "    </tr>\n",
       "    <tr>\n",
       "      <th>std</th>\n",
       "      <td>84.437354</td>\n",
       "      <td>0.482658</td>\n",
       "      <td>0.499682</td>\n",
       "      <td>0.437646</td>\n",
       "      <td>0.498208</td>\n",
       "      <td>0.437646</td>\n",
       "      <td>0.453454</td>\n",
       "      <td>0.489438</td>\n",
       "      <td>0.500847</td>\n",
       "      <td>0.500811</td>\n",
       "      <td>0.446761</td>\n",
       "      <td>2.284882</td>\n",
       "    </tr>\n",
       "    <tr>\n",
       "      <th>min</th>\n",
       "      <td>1.000000</td>\n",
       "      <td>0.000000</td>\n",
       "      <td>0.000000</td>\n",
       "      <td>0.000000</td>\n",
       "      <td>0.000000</td>\n",
       "      <td>0.000000</td>\n",
       "      <td>0.000000</td>\n",
       "      <td>0.000000</td>\n",
       "      <td>0.000000</td>\n",
       "      <td>0.000000</td>\n",
       "      <td>0.000000</td>\n",
       "      <td>0.000000</td>\n",
       "    </tr>\n",
       "    <tr>\n",
       "      <th>25%</th>\n",
       "      <td>73.750000</td>\n",
       "      <td>0.000000</td>\n",
       "      <td>0.000000</td>\n",
       "      <td>0.000000</td>\n",
       "      <td>0.000000</td>\n",
       "      <td>0.000000</td>\n",
       "      <td>0.000000</td>\n",
       "      <td>0.000000</td>\n",
       "      <td>0.000000</td>\n",
       "      <td>0.000000</td>\n",
       "      <td>0.000000</td>\n",
       "      <td>5.000000</td>\n",
       "    </tr>\n",
       "    <tr>\n",
       "      <th>50%</th>\n",
       "      <td>146.500000</td>\n",
       "      <td>1.000000</td>\n",
       "      <td>1.000000</td>\n",
       "      <td>1.000000</td>\n",
       "      <td>1.000000</td>\n",
       "      <td>1.000000</td>\n",
       "      <td>1.000000</td>\n",
       "      <td>1.000000</td>\n",
       "      <td>0.000000</td>\n",
       "      <td>0.000000</td>\n",
       "      <td>1.000000</td>\n",
       "      <td>6.000000</td>\n",
       "    </tr>\n",
       "    <tr>\n",
       "      <th>75%</th>\n",
       "      <td>219.250000</td>\n",
       "      <td>1.000000</td>\n",
       "      <td>1.000000</td>\n",
       "      <td>1.000000</td>\n",
       "      <td>1.000000</td>\n",
       "      <td>1.000000</td>\n",
       "      <td>1.000000</td>\n",
       "      <td>1.000000</td>\n",
       "      <td>1.000000</td>\n",
       "      <td>1.000000</td>\n",
       "      <td>1.000000</td>\n",
       "      <td>8.000000</td>\n",
       "    </tr>\n",
       "    <tr>\n",
       "      <th>max</th>\n",
       "      <td>292.000000</td>\n",
       "      <td>1.000000</td>\n",
       "      <td>1.000000</td>\n",
       "      <td>1.000000</td>\n",
       "      <td>1.000000</td>\n",
       "      <td>1.000000</td>\n",
       "      <td>1.000000</td>\n",
       "      <td>1.000000</td>\n",
       "      <td>1.000000</td>\n",
       "      <td>1.000000</td>\n",
       "      <td>1.000000</td>\n",
       "      <td>10.000000</td>\n",
       "    </tr>\n",
       "  </tbody>\n",
       "</table>\n",
       "</div>"
      ],
      "text/plain": [
       "               id    A1_Score    A2_Score    A3_Score    A4_Score    A5_Score  \\\n",
       "count  292.000000  292.000000  292.000000  292.000000  292.000000  292.000000   \n",
       "mean   146.500000    0.633562    0.534247    0.743151    0.551370    0.743151   \n",
       "std     84.437354    0.482658    0.499682    0.437646    0.498208    0.437646   \n",
       "min      1.000000    0.000000    0.000000    0.000000    0.000000    0.000000   \n",
       "25%     73.750000    0.000000    0.000000    0.000000    0.000000    0.000000   \n",
       "50%    146.500000    1.000000    1.000000    1.000000    1.000000    1.000000   \n",
       "75%    219.250000    1.000000    1.000000    1.000000    1.000000    1.000000   \n",
       "max    292.000000    1.000000    1.000000    1.000000    1.000000    1.000000   \n",
       "\n",
       "         A6_Score    A7_Score    A8_Score    A9_Score   A10_Score      result  \n",
       "count  292.000000  292.000000  292.000000  292.000000  292.000000  292.000000  \n",
       "mean     0.712329    0.606164    0.496575    0.493151    0.726027    6.239726  \n",
       "std      0.453454    0.489438    0.500847    0.500811    0.446761    2.284882  \n",
       "min      0.000000    0.000000    0.000000    0.000000    0.000000    0.000000  \n",
       "25%      0.000000    0.000000    0.000000    0.000000    0.000000    5.000000  \n",
       "50%      1.000000    1.000000    0.000000    0.000000    1.000000    6.000000  \n",
       "75%      1.000000    1.000000    1.000000    1.000000    1.000000    8.000000  \n",
       "max      1.000000    1.000000    1.000000    1.000000    1.000000   10.000000  "
      ]
     },
     "execution_count": 6,
     "metadata": {},
     "output_type": "execute_result"
    }
   ],
   "source": [
    "autismo.describe()"
   ]
  },
  {
   "cell_type": "markdown",
   "id": "64a35699",
   "metadata": {},
   "source": [
    "## Dtypes\n",
    "\n",
    "Esta librería nos sirve para ver que datos o en que cadena de caracteres se encuentran cada uno de nuestros datos tanto en filas como columnas de nuestro archivo Csv."
   ]
  },
  {
   "cell_type": "code",
   "execution_count": 8,
   "id": "2b19b11e",
   "metadata": {},
   "outputs": [
    {
     "data": {
      "text/plain": [
       "id                  int64\n",
       "A1_Score            int64\n",
       "A2_Score            int64\n",
       "A3_Score            int64\n",
       "A4_Score            int64\n",
       "A5_Score            int64\n",
       "A6_Score            int64\n",
       "A7_Score            int64\n",
       "A8_Score            int64\n",
       "A9_Score            int64\n",
       "A10_Score           int64\n",
       "age                object\n",
       "gender             object\n",
       "ethnicity          object\n",
       "jundice            object\n",
       "austim             object\n",
       "contry_of_res      object\n",
       "used_app_before    object\n",
       "result              int64\n",
       "age_desc           object\n",
       "relation           object\n",
       "Class/ASD          object\n",
       "dtype: object"
      ]
     },
     "execution_count": 8,
     "metadata": {},
     "output_type": "execute_result"
    }
   ],
   "source": [
    "autismo.dtypes"
   ]
  },
  {
   "cell_type": "markdown",
   "id": "5093ef44",
   "metadata": {},
   "source": [
    "## Tercer paso:\n",
    "\n",
    "Utilizamos la función type() la cual se encarga de devolvernos  el tipo de objeto el cual estamos llamando o simplemente devuelve un nuevo tipo de objeto basado en los argumentos pasados, el cual en nuestro caso nos arojara un:\n",
    "\n",
    "#### pandas.core.frame.DataFrame.\n",
    "\n"
   ]
  },
  {
   "cell_type": "code",
   "execution_count": 12,
   "id": "8c673a37",
   "metadata": {},
   "outputs": [
    {
     "data": {
      "text/plain": [
       "pandas.core.frame.DataFrame"
      ]
     },
     "execution_count": 12,
     "metadata": {},
     "output_type": "execute_result"
    }
   ],
   "source": [
    "type(autismo)"
   ]
  },
  {
   "cell_type": "markdown",
   "id": "2f06b765",
   "metadata": {},
   "source": [
    "## Shape \n",
    "\n",
    "Lo utilizamos para mostrar nuestro tamaño del arreglo. "
   ]
  },
  {
   "cell_type": "code",
   "execution_count": 13,
   "id": "9036b447",
   "metadata": {},
   "outputs": [
    {
     "data": {
      "text/plain": [
       "(292, 22)"
      ]
     },
     "execution_count": 13,
     "metadata": {},
     "output_type": "execute_result"
    }
   ],
   "source": [
    "autismo.shape"
   ]
  },
  {
   "cell_type": "markdown",
   "id": "521351b1",
   "metadata": {},
   "source": [
    "## Cuarto paso: \n",
    "\n",
    "Comenzamos con la primera pregunta de nuestro ejercicio, la cual nos pide sacar el promedio de nuestro archivo, la cual utilizaremos la librería mean(), que nos permitirá sacar el promedio de nuestro archivo, si queremos saber si está correcto en nuestro describe() podemos comparar el resultado que nos arroje."
   ]
  },
  {
   "cell_type": "code",
   "execution_count": 14,
   "id": "ad7bb66b",
   "metadata": {},
   "outputs": [
    {
     "data": {
      "text/plain": [
       "id           146.500000\n",
       "A1_Score       0.633562\n",
       "A2_Score       0.534247\n",
       "A3_Score       0.743151\n",
       "A4_Score       0.551370\n",
       "A5_Score       0.743151\n",
       "A6_Score       0.712329\n",
       "A7_Score       0.606164\n",
       "A8_Score       0.496575\n",
       "A9_Score       0.493151\n",
       "A10_Score      0.726027\n",
       "result         6.239726\n",
       "dtype: float64"
      ]
     },
     "execution_count": 14,
     "metadata": {},
     "output_type": "execute_result"
    }
   ],
   "source": [
    "autismo.mean()"
   ]
  },
  {
   "cell_type": "markdown",
   "id": "e1f43aa5",
   "metadata": {},
   "source": [
    "## Quinto paso:\n",
    "\n",
    "Procedemos a crear nuestra variable promedio columnas, la cual le indicaremos que solo nos calcule también con nuestro mean, el promedio pero solo de nuestras columnas, creando una variable especifica para este nuevo caso.\n"
   ]
  },
  {
   "cell_type": "code",
   "execution_count": 19,
   "id": "23719574",
   "metadata": {},
   "outputs": [],
   "source": [
    "prom_columnas=autismo.mean(axis=0)"
   ]
  },
  {
   "cell_type": "markdown",
   "id": "e8618fd3",
   "metadata": {},
   "source": [
    "#### Nuestro (axis=0) hace referencia al eje de las columnas de nuestro archivo "
   ]
  },
  {
   "cell_type": "code",
   "execution_count": 20,
   "id": "65118091",
   "metadata": {},
   "outputs": [
    {
     "data": {
      "text/plain": [
       "pandas.core.series.Series"
      ]
     },
     "execution_count": 20,
     "metadata": {},
     "output_type": "execute_result"
    }
   ],
   "source": [
    "type(prom_columnas)"
   ]
  },
  {
   "cell_type": "markdown",
   "id": "20188a30",
   "metadata": {},
   "source": [
    "#### Llamamos a nuestra variable el cual nos calculara e indicara el promedio de solo las columnas de nuestro archivo"
   ]
  },
  {
   "cell_type": "code",
   "execution_count": 23,
   "id": "4784f9f8",
   "metadata": {},
   "outputs": [
    {
     "data": {
      "text/plain": [
       "id           146.500000\n",
       "A1_Score       0.633562\n",
       "A2_Score       0.534247\n",
       "A3_Score       0.743151\n",
       "A4_Score       0.551370\n",
       "A5_Score       0.743151\n",
       "A6_Score       0.712329\n",
       "A7_Score       0.606164\n",
       "A8_Score       0.496575\n",
       "A9_Score       0.493151\n",
       "A10_Score      0.726027\n",
       "result         6.239726\n",
       "dtype: float64"
      ]
     },
     "execution_count": 23,
     "metadata": {},
     "output_type": "execute_result"
    }
   ],
   "source": [
    "prom_columnas"
   ]
  },
  {
   "cell_type": "markdown",
   "id": "07d7d94d",
   "metadata": {},
   "source": [
    "#### También podemos calcular el promedio de la primera columna de nuestro arreglo llamandolo de la siguiente manera: "
   ]
  },
  {
   "cell_type": "code",
   "execution_count": 25,
   "id": "03601ed1",
   "metadata": {},
   "outputs": [
    {
     "data": {
      "text/plain": [
       "146.5"
      ]
     },
     "execution_count": 25,
     "metadata": {},
     "output_type": "execute_result"
    }
   ],
   "source": [
    "autismo.mean(axis=0)[0]"
   ]
  },
  {
   "cell_type": "markdown",
   "id": "1d823ea2",
   "metadata": {},
   "source": [
    "## Sexto paso: \n",
    "\n",
    "Vamos a proceder a calcular el promedio de solo nuestras filas de nuestro archivo. "
   ]
  },
  {
   "cell_type": "code",
   "execution_count": 26,
   "id": "f610572d",
   "metadata": {},
   "outputs": [
    {
     "data": {
      "text/plain": [
       "0       0.916667\n",
       "1       1.000000\n",
       "2       1.083333\n",
       "3       1.000000\n",
       "4       2.083333\n",
       "         ...    \n",
       "287    25.666667\n",
       "288    24.750000\n",
       "289    25.333333\n",
       "290    25.750000\n",
       "291    24.833333\n",
       "Length: 292, dtype: float64"
      ]
     },
     "execution_count": 26,
     "metadata": {},
     "output_type": "execute_result"
    }
   ],
   "source": [
    "autismo.mean(axis=1)"
   ]
  },
  {
   "cell_type": "markdown",
   "id": "1c236f8a",
   "metadata": {},
   "source": [
    "#### También podemos calcular el promedio de la primera fila de nuestro arreglo llamandolo de la siguiente manera: "
   ]
  },
  {
   "cell_type": "code",
   "execution_count": 29,
   "id": "9964e916",
   "metadata": {},
   "outputs": [
    {
     "data": {
      "text/plain": [
       "0.9166666666666666"
      ]
     },
     "execution_count": 29,
     "metadata": {},
     "output_type": "execute_result"
    }
   ],
   "source": [
    "autismo.mean(axis=1)[0]"
   ]
  },
  {
   "cell_type": "markdown",
   "id": "484c49a2",
   "metadata": {},
   "source": [
    "### Septimo paso: \n",
    "\n",
    "Vamos a calcular nuestra desviación estándar con el comando \"std\", el cual es inicializado con nuestra librería numpy. "
   ]
  },
  {
   "cell_type": "code",
   "execution_count": 31,
   "id": "4b7cc709",
   "metadata": {},
   "outputs": [
    {
     "data": {
      "text/plain": [
       "id           84.292645\n",
       "A1_Score      0.481831\n",
       "A2_Score      0.498826\n",
       "A3_Score      0.436896\n",
       "A4_Score      0.497354\n",
       "A5_Score      0.436896\n",
       "A6_Score      0.452677\n",
       "A7_Score      0.488599\n",
       "A8_Score      0.499988\n",
       "A9_Score      0.499953\n",
       "A10_Score     0.445995\n",
       "result        2.280966\n",
       "dtype: float64"
      ]
     },
     "execution_count": 31,
     "metadata": {},
     "output_type": "execute_result"
    }
   ],
   "source": [
    "np.std(autismo)"
   ]
  },
  {
   "cell_type": "markdown",
   "id": "94be62ea",
   "metadata": {},
   "source": [
    "### Octavo paso: \n",
    "\n",
    "Vamos a calcular nuestra varianzar con el comando \"var\", el cual es inicializado con  nuestra librería numpy. \n"
   ]
  },
  {
   "cell_type": "code",
   "execution_count": 32,
   "id": "6afa40d3",
   "metadata": {},
   "outputs": [
    {
     "data": {
      "text/plain": [
       "id           7105.250000\n",
       "A1_Score        0.232161\n",
       "A2_Score        0.248827\n",
       "A3_Score        0.190878\n",
       "A4_Score        0.247361\n",
       "A5_Score        0.190878\n",
       "A6_Score        0.204916\n",
       "A7_Score        0.238729\n",
       "A8_Score        0.249988\n",
       "A9_Score        0.249953\n",
       "A10_Score       0.198912\n",
       "result          5.202805\n",
       "dtype: float64"
      ]
     },
     "execution_count": 32,
     "metadata": {},
     "output_type": "execute_result"
    }
   ],
   "source": [
    "np.var(autismo)"
   ]
  },
  {
   "cell_type": "markdown",
   "id": "ea5b14d0",
   "metadata": {},
   "source": [
    "### Noveno paso: \n",
    "\n",
    "Vamos a calcular nuestra moda con el comando \"stats.mode\", para esto tenemos que tener importada nuestra librería scipy stats, ya que nuestro numpy no calcula la moda, finalmente llamando a nuestra variable en este caso el archivo para obtener el cálculo."
   ]
  },
  {
   "cell_type": "code",
   "execution_count": 33,
   "id": "51797a44",
   "metadata": {},
   "outputs": [
    {
     "data": {
      "text/plain": [
       "ModeResult(mode=array([[1, 1, 1, 1, 1, 1, 1, 1, 0, 0, 1, '4', 'm', 'White-European',\n",
       "        'no', 'no', 'United Kingdom', 'no', 7, '4-11 years', 'Parent',\n",
       "        'NO']], dtype=object), count=array([[  1, 185, 156, 217, 161, 217, 208, 177, 147, 148, 212,  92, 208,\n",
       "        108, 212, 243,  49, 281,  44, 292, 214, 151]]))"
      ]
     },
     "execution_count": 33,
     "metadata": {},
     "output_type": "execute_result"
    }
   ],
   "source": [
    "stats.mode(autismo)"
   ]
  },
  {
   "cell_type": "markdown",
   "id": "3ca24c17",
   "metadata": {},
   "source": [
    "## Decimo paso:\n",
    "\n",
    "Vamoa a jugar con nustra desviación estándar"
   ]
  },
  {
   "cell_type": "code",
   "execution_count": 51,
   "id": "0cd81e2e",
   "metadata": {},
   "outputs": [
    {
     "data": {
      "text/plain": [
       "id           84.292645\n",
       "A1_Score      0.481831\n",
       "A2_Score      0.498826\n",
       "A3_Score      0.436896\n",
       "A4_Score      0.497354\n",
       "A5_Score      0.436896\n",
       "A6_Score      0.452677\n",
       "A7_Score      0.488599\n",
       "A8_Score      0.499988\n",
       "A9_Score      0.499953\n",
       "A10_Score     0.445995\n",
       "result        2.280966\n",
       "dtype: float64"
      ]
     },
     "execution_count": 51,
     "metadata": {},
     "output_type": "execute_result"
    }
   ],
   "source": [
    "np.std(autismo)"
   ]
  },
  {
   "cell_type": "markdown",
   "id": "b34df6c9",
   "metadata": {},
   "source": [
    "#### Deviación estándar de nuestra fila \n"
   ]
  },
  {
   "cell_type": "code",
   "execution_count": 57,
   "id": "72ba70ed",
   "metadata": {},
   "outputs": [
    {
     "data": {
      "text/plain": [
       "0       1.320248\n",
       "1       1.354006\n",
       "2       1.440968\n",
       "3       1.414214\n",
       "4       2.628635\n",
       "         ...    \n",
       "287    79.135257\n",
       "288    79.681789\n",
       "289    79.819936\n",
       "290    80.007422\n",
       "291    80.558295\n",
       "Length: 292, dtype: float64"
      ]
     },
     "execution_count": 57,
     "metadata": {},
     "output_type": "execute_result"
    }
   ],
   "source": [
    "np.std(autismo, axis=1)"
   ]
  },
  {
   "cell_type": "markdown",
   "id": "a3ff4701",
   "metadata": {},
   "source": [
    "#### Deviación estándar de nuestra columna"
   ]
  },
  {
   "cell_type": "code",
   "execution_count": 58,
   "id": "7d59f2bb",
   "metadata": {},
   "outputs": [
    {
     "data": {
      "text/plain": [
       "id           84.292645\n",
       "A1_Score      0.481831\n",
       "A2_Score      0.498826\n",
       "A3_Score      0.436896\n",
       "A4_Score      0.497354\n",
       "A5_Score      0.436896\n",
       "A6_Score      0.452677\n",
       "A7_Score      0.488599\n",
       "A8_Score      0.499988\n",
       "A9_Score      0.499953\n",
       "A10_Score     0.445995\n",
       "result        2.280966\n",
       "dtype: float64"
      ]
     },
     "execution_count": 58,
     "metadata": {},
     "output_type": "execute_result"
    }
   ],
   "source": [
    "np.std(autismo, axis=0)"
   ]
  },
  {
   "cell_type": "markdown",
   "id": "416f6305",
   "metadata": {},
   "source": [
    "#### Deviación estándar de la primera columna de nuestras columnas "
   ]
  },
  {
   "cell_type": "code",
   "execution_count": 70,
   "id": "aaecddec",
   "metadata": {},
   "outputs": [
    {
     "data": {
      "text/plain": [
       "84.2926449934987"
      ]
     },
     "execution_count": 70,
     "metadata": {},
     "output_type": "execute_result"
    }
   ],
   "source": [
    "np.std(autismo, axis=0)[0]"
   ]
  },
  {
   "cell_type": "markdown",
   "id": "105f6063",
   "metadata": {},
   "source": [
    "#### Deviación estándar de la primera fila de nuestras filas"
   ]
  },
  {
   "cell_type": "code",
   "execution_count": 109,
   "id": "818c73b1",
   "metadata": {},
   "outputs": [
    {
     "data": {
      "text/plain": [
       "1.3202482931462383"
      ]
     },
     "execution_count": 109,
     "metadata": {},
     "output_type": "execute_result"
    }
   ],
   "source": [
    "np.std(autismo, axis=1)[0]"
   ]
  },
  {
   "cell_type": "markdown",
   "id": "d3157cdc",
   "metadata": {},
   "source": [
    "## Onceavo paso:\n",
    "\n",
    "Procedemos a sacar los quantiles de nuestro archivo."
   ]
  },
  {
   "cell_type": "code",
   "execution_count": 89,
   "id": "27828de0",
   "metadata": {},
   "outputs": [
    {
     "data": {
      "text/html": [
       "<div>\n",
       "<style scoped>\n",
       "    .dataframe tbody tr th:only-of-type {\n",
       "        vertical-align: middle;\n",
       "    }\n",
       "\n",
       "    .dataframe tbody tr th {\n",
       "        vertical-align: top;\n",
       "    }\n",
       "\n",
       "    .dataframe thead th {\n",
       "        text-align: right;\n",
       "    }\n",
       "</style>\n",
       "<table border=\"1\" class=\"dataframe\">\n",
       "  <thead>\n",
       "    <tr style=\"text-align: right;\">\n",
       "      <th></th>\n",
       "      <th>id</th>\n",
       "      <th>A1_Score</th>\n",
       "      <th>A2_Score</th>\n",
       "      <th>A3_Score</th>\n",
       "      <th>A4_Score</th>\n",
       "      <th>A5_Score</th>\n",
       "      <th>A6_Score</th>\n",
       "      <th>A7_Score</th>\n",
       "      <th>A8_Score</th>\n",
       "      <th>A9_Score</th>\n",
       "      <th>A10_Score</th>\n",
       "      <th>result</th>\n",
       "    </tr>\n",
       "  </thead>\n",
       "  <tbody>\n",
       "    <tr>\n",
       "      <th>0.0</th>\n",
       "      <td>1.0</td>\n",
       "      <td>0.0</td>\n",
       "      <td>0.0</td>\n",
       "      <td>0.0</td>\n",
       "      <td>0.0</td>\n",
       "      <td>0.0</td>\n",
       "      <td>0.0</td>\n",
       "      <td>0.0</td>\n",
       "      <td>0.0</td>\n",
       "      <td>0.0</td>\n",
       "      <td>0.0</td>\n",
       "      <td>0.0</td>\n",
       "    </tr>\n",
       "    <tr>\n",
       "      <th>0.1</th>\n",
       "      <td>30.1</td>\n",
       "      <td>0.0</td>\n",
       "      <td>0.0</td>\n",
       "      <td>0.0</td>\n",
       "      <td>0.0</td>\n",
       "      <td>0.0</td>\n",
       "      <td>0.0</td>\n",
       "      <td>0.0</td>\n",
       "      <td>0.0</td>\n",
       "      <td>0.0</td>\n",
       "      <td>0.0</td>\n",
       "      <td>3.0</td>\n",
       "    </tr>\n",
       "    <tr>\n",
       "      <th>0.2</th>\n",
       "      <td>59.2</td>\n",
       "      <td>0.0</td>\n",
       "      <td>0.0</td>\n",
       "      <td>0.0</td>\n",
       "      <td>0.0</td>\n",
       "      <td>0.0</td>\n",
       "      <td>0.0</td>\n",
       "      <td>0.0</td>\n",
       "      <td>0.0</td>\n",
       "      <td>0.0</td>\n",
       "      <td>0.0</td>\n",
       "      <td>4.0</td>\n",
       "    </tr>\n",
       "    <tr>\n",
       "      <th>0.3</th>\n",
       "      <td>88.3</td>\n",
       "      <td>0.0</td>\n",
       "      <td>0.0</td>\n",
       "      <td>1.0</td>\n",
       "      <td>0.0</td>\n",
       "      <td>1.0</td>\n",
       "      <td>1.0</td>\n",
       "      <td>0.0</td>\n",
       "      <td>0.0</td>\n",
       "      <td>0.0</td>\n",
       "      <td>1.0</td>\n",
       "      <td>5.0</td>\n",
       "    </tr>\n",
       "    <tr>\n",
       "      <th>0.4</th>\n",
       "      <td>117.4</td>\n",
       "      <td>1.0</td>\n",
       "      <td>0.0</td>\n",
       "      <td>1.0</td>\n",
       "      <td>0.0</td>\n",
       "      <td>1.0</td>\n",
       "      <td>1.0</td>\n",
       "      <td>1.0</td>\n",
       "      <td>0.0</td>\n",
       "      <td>0.0</td>\n",
       "      <td>1.0</td>\n",
       "      <td>6.0</td>\n",
       "    </tr>\n",
       "    <tr>\n",
       "      <th>0.5</th>\n",
       "      <td>146.5</td>\n",
       "      <td>1.0</td>\n",
       "      <td>1.0</td>\n",
       "      <td>1.0</td>\n",
       "      <td>1.0</td>\n",
       "      <td>1.0</td>\n",
       "      <td>1.0</td>\n",
       "      <td>1.0</td>\n",
       "      <td>0.0</td>\n",
       "      <td>0.0</td>\n",
       "      <td>1.0</td>\n",
       "      <td>6.0</td>\n",
       "    </tr>\n",
       "    <tr>\n",
       "      <th>0.6</th>\n",
       "      <td>175.6</td>\n",
       "      <td>1.0</td>\n",
       "      <td>1.0</td>\n",
       "      <td>1.0</td>\n",
       "      <td>1.0</td>\n",
       "      <td>1.0</td>\n",
       "      <td>1.0</td>\n",
       "      <td>1.0</td>\n",
       "      <td>1.0</td>\n",
       "      <td>1.0</td>\n",
       "      <td>1.0</td>\n",
       "      <td>7.0</td>\n",
       "    </tr>\n",
       "    <tr>\n",
       "      <th>0.7</th>\n",
       "      <td>204.7</td>\n",
       "      <td>1.0</td>\n",
       "      <td>1.0</td>\n",
       "      <td>1.0</td>\n",
       "      <td>1.0</td>\n",
       "      <td>1.0</td>\n",
       "      <td>1.0</td>\n",
       "      <td>1.0</td>\n",
       "      <td>1.0</td>\n",
       "      <td>1.0</td>\n",
       "      <td>1.0</td>\n",
       "      <td>8.0</td>\n",
       "    </tr>\n",
       "    <tr>\n",
       "      <th>0.8</th>\n",
       "      <td>233.8</td>\n",
       "      <td>1.0</td>\n",
       "      <td>1.0</td>\n",
       "      <td>1.0</td>\n",
       "      <td>1.0</td>\n",
       "      <td>1.0</td>\n",
       "      <td>1.0</td>\n",
       "      <td>1.0</td>\n",
       "      <td>1.0</td>\n",
       "      <td>1.0</td>\n",
       "      <td>1.0</td>\n",
       "      <td>8.0</td>\n",
       "    </tr>\n",
       "    <tr>\n",
       "      <th>0.9</th>\n",
       "      <td>262.9</td>\n",
       "      <td>1.0</td>\n",
       "      <td>1.0</td>\n",
       "      <td>1.0</td>\n",
       "      <td>1.0</td>\n",
       "      <td>1.0</td>\n",
       "      <td>1.0</td>\n",
       "      <td>1.0</td>\n",
       "      <td>1.0</td>\n",
       "      <td>1.0</td>\n",
       "      <td>1.0</td>\n",
       "      <td>9.0</td>\n",
       "    </tr>\n",
       "    <tr>\n",
       "      <th>1.0</th>\n",
       "      <td>292.0</td>\n",
       "      <td>1.0</td>\n",
       "      <td>1.0</td>\n",
       "      <td>1.0</td>\n",
       "      <td>1.0</td>\n",
       "      <td>1.0</td>\n",
       "      <td>1.0</td>\n",
       "      <td>1.0</td>\n",
       "      <td>1.0</td>\n",
       "      <td>1.0</td>\n",
       "      <td>1.0</td>\n",
       "      <td>10.0</td>\n",
       "    </tr>\n",
       "  </tbody>\n",
       "</table>\n",
       "</div>"
      ],
      "text/plain": [
       "        id  A1_Score  A2_Score  A3_Score  A4_Score  A5_Score  A6_Score  \\\n",
       "0.0    1.0       0.0       0.0       0.0       0.0       0.0       0.0   \n",
       "0.1   30.1       0.0       0.0       0.0       0.0       0.0       0.0   \n",
       "0.2   59.2       0.0       0.0       0.0       0.0       0.0       0.0   \n",
       "0.3   88.3       0.0       0.0       1.0       0.0       1.0       1.0   \n",
       "0.4  117.4       1.0       0.0       1.0       0.0       1.0       1.0   \n",
       "0.5  146.5       1.0       1.0       1.0       1.0       1.0       1.0   \n",
       "0.6  175.6       1.0       1.0       1.0       1.0       1.0       1.0   \n",
       "0.7  204.7       1.0       1.0       1.0       1.0       1.0       1.0   \n",
       "0.8  233.8       1.0       1.0       1.0       1.0       1.0       1.0   \n",
       "0.9  262.9       1.0       1.0       1.0       1.0       1.0       1.0   \n",
       "1.0  292.0       1.0       1.0       1.0       1.0       1.0       1.0   \n",
       "\n",
       "     A7_Score  A8_Score  A9_Score  A10_Score  result  \n",
       "0.0       0.0       0.0       0.0        0.0     0.0  \n",
       "0.1       0.0       0.0       0.0        0.0     3.0  \n",
       "0.2       0.0       0.0       0.0        0.0     4.0  \n",
       "0.3       0.0       0.0       0.0        1.0     5.0  \n",
       "0.4       1.0       0.0       0.0        1.0     6.0  \n",
       "0.5       1.0       0.0       0.0        1.0     6.0  \n",
       "0.6       1.0       1.0       1.0        1.0     7.0  \n",
       "0.7       1.0       1.0       1.0        1.0     8.0  \n",
       "0.8       1.0       1.0       1.0        1.0     8.0  \n",
       "0.9       1.0       1.0       1.0        1.0     9.0  \n",
       "1.0       1.0       1.0       1.0        1.0    10.0  "
      ]
     },
     "execution_count": 89,
     "metadata": {},
     "output_type": "execute_result"
    }
   ],
   "source": [
    "autismo.quantile(np.arange(0.0,1.1,0.1))"
   ]
  },
  {
   "cell_type": "markdown",
   "id": "b9d6232a",
   "metadata": {},
   "source": [
    "### Aplicaremos la función \"skew\" que nos permite encontrar la asimetría de nuestros datos "
   ]
  },
  {
   "cell_type": "code",
   "execution_count": 90,
   "id": "8cb7602a",
   "metadata": {},
   "outputs": [
    {
     "data": {
      "text/plain": [
       "id           0.000000\n",
       "A1_Score    -0.557259\n",
       "A2_Score    -0.138019\n",
       "A3_Score    -1.118839\n",
       "A4_Score    -0.207641\n",
       "A5_Score    -1.118839\n",
       "A6_Score    -0.942954\n",
       "A7_Score    -0.436814\n",
       "A8_Score     0.013770\n",
       "A9_Score     0.027542\n",
       "A10_Score   -1.018828\n",
       "result      -0.262980\n",
       "dtype: float64"
      ]
     },
     "execution_count": 90,
     "metadata": {},
     "output_type": "execute_result"
    }
   ],
   "source": [
    "autismo.skew()"
   ]
  },
  {
   "cell_type": "markdown",
   "id": "058772dd",
   "metadata": {},
   "source": [
    "### Aplicaremos la función \"kurtosis\" que nos sirve para describir la forma de nuestra distrubución de datos "
   ]
  },
  {
   "cell_type": "code",
   "execution_count": 91,
   "id": "09df588f",
   "metadata": {},
   "outputs": [
    {
     "data": {
      "text/plain": [
       "id          -1.200000\n",
       "A1_Score    -1.701162\n",
       "A2_Score    -1.994660\n",
       "A3_Score    -0.753406\n",
       "A4_Score    -1.970429\n",
       "A5_Score    -0.753406\n",
       "A6_Score    -1.118547\n",
       "A7_Score    -1.821719\n",
       "A8_Score    -2.013650\n",
       "A9_Score    -2.013077\n",
       "A10_Score   -0.968671\n",
       "result      -0.626835\n",
       "dtype: float64"
      ]
     },
     "execution_count": 91,
     "metadata": {},
     "output_type": "execute_result"
    }
   ],
   "source": [
    "autismo.kurtosis()"
   ]
  },
  {
   "cell_type": "code",
   "execution_count": 42,
   "id": "1cd5c9d3",
   "metadata": {},
   "outputs": [
    {
     "data": {
      "text/html": [
       "<div>\n",
       "<style scoped>\n",
       "    .dataframe tbody tr th:only-of-type {\n",
       "        vertical-align: middle;\n",
       "    }\n",
       "\n",
       "    .dataframe tbody tr th {\n",
       "        vertical-align: top;\n",
       "    }\n",
       "\n",
       "    .dataframe thead th {\n",
       "        text-align: right;\n",
       "    }\n",
       "</style>\n",
       "<table border=\"1\" class=\"dataframe\">\n",
       "  <thead>\n",
       "    <tr style=\"text-align: right;\">\n",
       "      <th></th>\n",
       "      <th>id</th>\n",
       "      <th>A1_Score</th>\n",
       "      <th>A2_Score</th>\n",
       "      <th>A3_Score</th>\n",
       "      <th>A4_Score</th>\n",
       "      <th>A5_Score</th>\n",
       "      <th>A6_Score</th>\n",
       "      <th>A7_Score</th>\n",
       "      <th>A8_Score</th>\n",
       "      <th>A9_Score</th>\n",
       "      <th>...</th>\n",
       "      <th>gender</th>\n",
       "      <th>ethnicity</th>\n",
       "      <th>jundice</th>\n",
       "      <th>austim</th>\n",
       "      <th>contry_of_res</th>\n",
       "      <th>used_app_before</th>\n",
       "      <th>result</th>\n",
       "      <th>age_desc</th>\n",
       "      <th>relation</th>\n",
       "      <th>Class/ASD</th>\n",
       "    </tr>\n",
       "  </thead>\n",
       "  <tbody>\n",
       "    <tr>\n",
       "      <th>0</th>\n",
       "      <td>1</td>\n",
       "      <td>1</td>\n",
       "      <td>1</td>\n",
       "      <td>0</td>\n",
       "      <td>0</td>\n",
       "      <td>1</td>\n",
       "      <td>1</td>\n",
       "      <td>0</td>\n",
       "      <td>1</td>\n",
       "      <td>0</td>\n",
       "      <td>...</td>\n",
       "      <td>m</td>\n",
       "      <td>Others</td>\n",
       "      <td>no</td>\n",
       "      <td>no</td>\n",
       "      <td>Jordan</td>\n",
       "      <td>no</td>\n",
       "      <td>5</td>\n",
       "      <td>4-11 years</td>\n",
       "      <td>Parent</td>\n",
       "      <td>NO</td>\n",
       "    </tr>\n",
       "    <tr>\n",
       "      <th>1</th>\n",
       "      <td>2</td>\n",
       "      <td>1</td>\n",
       "      <td>1</td>\n",
       "      <td>0</td>\n",
       "      <td>0</td>\n",
       "      <td>1</td>\n",
       "      <td>1</td>\n",
       "      <td>0</td>\n",
       "      <td>1</td>\n",
       "      <td>0</td>\n",
       "      <td>...</td>\n",
       "      <td>m</td>\n",
       "      <td>Middle Eastern</td>\n",
       "      <td>no</td>\n",
       "      <td>no</td>\n",
       "      <td>Jordan</td>\n",
       "      <td>no</td>\n",
       "      <td>5</td>\n",
       "      <td>4-11 years</td>\n",
       "      <td>Parent</td>\n",
       "      <td>NO</td>\n",
       "    </tr>\n",
       "    <tr>\n",
       "      <th>2</th>\n",
       "      <td>3</td>\n",
       "      <td>1</td>\n",
       "      <td>1</td>\n",
       "      <td>0</td>\n",
       "      <td>0</td>\n",
       "      <td>0</td>\n",
       "      <td>1</td>\n",
       "      <td>1</td>\n",
       "      <td>1</td>\n",
       "      <td>0</td>\n",
       "      <td>...</td>\n",
       "      <td>m</td>\n",
       "      <td>?</td>\n",
       "      <td>no</td>\n",
       "      <td>no</td>\n",
       "      <td>Jordan</td>\n",
       "      <td>yes</td>\n",
       "      <td>5</td>\n",
       "      <td>4-11 years</td>\n",
       "      <td>?</td>\n",
       "      <td>NO</td>\n",
       "    </tr>\n",
       "    <tr>\n",
       "      <th>3</th>\n",
       "      <td>4</td>\n",
       "      <td>0</td>\n",
       "      <td>1</td>\n",
       "      <td>0</td>\n",
       "      <td>0</td>\n",
       "      <td>1</td>\n",
       "      <td>1</td>\n",
       "      <td>0</td>\n",
       "      <td>0</td>\n",
       "      <td>0</td>\n",
       "      <td>...</td>\n",
       "      <td>f</td>\n",
       "      <td>?</td>\n",
       "      <td>yes</td>\n",
       "      <td>no</td>\n",
       "      <td>Jordan</td>\n",
       "      <td>no</td>\n",
       "      <td>4</td>\n",
       "      <td>4-11 years</td>\n",
       "      <td>?</td>\n",
       "      <td>NO</td>\n",
       "    </tr>\n",
       "    <tr>\n",
       "      <th>4</th>\n",
       "      <td>5</td>\n",
       "      <td>1</td>\n",
       "      <td>1</td>\n",
       "      <td>1</td>\n",
       "      <td>1</td>\n",
       "      <td>1</td>\n",
       "      <td>1</td>\n",
       "      <td>1</td>\n",
       "      <td>1</td>\n",
       "      <td>1</td>\n",
       "      <td>...</td>\n",
       "      <td>m</td>\n",
       "      <td>Others</td>\n",
       "      <td>yes</td>\n",
       "      <td>no</td>\n",
       "      <td>United States</td>\n",
       "      <td>no</td>\n",
       "      <td>10</td>\n",
       "      <td>4-11 years</td>\n",
       "      <td>Parent</td>\n",
       "      <td>YES</td>\n",
       "    </tr>\n",
       "  </tbody>\n",
       "</table>\n",
       "<p>5 rows × 22 columns</p>\n",
       "</div>"
      ],
      "text/plain": [
       "   id  A1_Score  A2_Score  A3_Score  A4_Score  A5_Score  A6_Score  A7_Score  \\\n",
       "0   1         1         1         0         0         1         1         0   \n",
       "1   2         1         1         0         0         1         1         0   \n",
       "2   3         1         1         0         0         0         1         1   \n",
       "3   4         0         1         0         0         1         1         0   \n",
       "4   5         1         1         1         1         1         1         1   \n",
       "\n",
       "   A8_Score  A9_Score  ...  gender        ethnicity jundice austim  \\\n",
       "0         1         0  ...       m           Others      no     no   \n",
       "1         1         0  ...       m  Middle Eastern       no     no   \n",
       "2         1         0  ...       m                ?      no     no   \n",
       "3         0         0  ...       f                ?     yes     no   \n",
       "4         1         1  ...       m           Others     yes     no   \n",
       "\n",
       "   contry_of_res used_app_before result    age_desc  relation Class/ASD  \n",
       "0         Jordan              no      5  4-11 years    Parent        NO  \n",
       "1         Jordan              no      5  4-11 years    Parent        NO  \n",
       "2         Jordan             yes      5  4-11 years         ?        NO  \n",
       "3         Jordan              no      4  4-11 years         ?        NO  \n",
       "4  United States              no     10  4-11 years    Parent       YES  \n",
       "\n",
       "[5 rows x 22 columns]"
      ]
     },
     "execution_count": 42,
     "metadata": {},
     "output_type": "execute_result"
    }
   ],
   "source": [
    "autismo.head()"
   ]
  },
  {
   "cell_type": "markdown",
   "id": "e3a2f6c7",
   "metadata": {},
   "source": [
    "### Comenzamos a filtrar nuestros datos rellenando con un \"NaN\" nuestros datos faltantes, y también filtrando nuestros datos númericos para poder graficarlos "
   ]
  },
  {
   "cell_type": "code",
   "execution_count": 104,
   "id": "e33febcc",
   "metadata": {},
   "outputs": [],
   "source": [
    "filtro=autismo[autismo!=\"?\"]"
   ]
  },
  {
   "cell_type": "code",
   "execution_count": 105,
   "id": "7c799e4c",
   "metadata": {},
   "outputs": [
    {
     "data": {
      "text/html": [
       "<div>\n",
       "<style scoped>\n",
       "    .dataframe tbody tr th:only-of-type {\n",
       "        vertical-align: middle;\n",
       "    }\n",
       "\n",
       "    .dataframe tbody tr th {\n",
       "        vertical-align: top;\n",
       "    }\n",
       "\n",
       "    .dataframe thead th {\n",
       "        text-align: right;\n",
       "    }\n",
       "</style>\n",
       "<table border=\"1\" class=\"dataframe\">\n",
       "  <thead>\n",
       "    <tr style=\"text-align: right;\">\n",
       "      <th></th>\n",
       "      <th>id</th>\n",
       "      <th>A1_Score</th>\n",
       "      <th>A2_Score</th>\n",
       "      <th>A3_Score</th>\n",
       "      <th>A4_Score</th>\n",
       "      <th>A5_Score</th>\n",
       "      <th>A6_Score</th>\n",
       "      <th>A7_Score</th>\n",
       "      <th>A8_Score</th>\n",
       "      <th>A9_Score</th>\n",
       "      <th>...</th>\n",
       "      <th>gender</th>\n",
       "      <th>ethnicity</th>\n",
       "      <th>jundice</th>\n",
       "      <th>austim</th>\n",
       "      <th>contry_of_res</th>\n",
       "      <th>used_app_before</th>\n",
       "      <th>result</th>\n",
       "      <th>age_desc</th>\n",
       "      <th>relation</th>\n",
       "      <th>Class/ASD</th>\n",
       "    </tr>\n",
       "  </thead>\n",
       "  <tbody>\n",
       "    <tr>\n",
       "      <th>0</th>\n",
       "      <td>1</td>\n",
       "      <td>1</td>\n",
       "      <td>1</td>\n",
       "      <td>0</td>\n",
       "      <td>0</td>\n",
       "      <td>1</td>\n",
       "      <td>1</td>\n",
       "      <td>0</td>\n",
       "      <td>1</td>\n",
       "      <td>0</td>\n",
       "      <td>...</td>\n",
       "      <td>m</td>\n",
       "      <td>Others</td>\n",
       "      <td>no</td>\n",
       "      <td>no</td>\n",
       "      <td>Jordan</td>\n",
       "      <td>no</td>\n",
       "      <td>5</td>\n",
       "      <td>4-11 years</td>\n",
       "      <td>Parent</td>\n",
       "      <td>NO</td>\n",
       "    </tr>\n",
       "    <tr>\n",
       "      <th>1</th>\n",
       "      <td>2</td>\n",
       "      <td>1</td>\n",
       "      <td>1</td>\n",
       "      <td>0</td>\n",
       "      <td>0</td>\n",
       "      <td>1</td>\n",
       "      <td>1</td>\n",
       "      <td>0</td>\n",
       "      <td>1</td>\n",
       "      <td>0</td>\n",
       "      <td>...</td>\n",
       "      <td>m</td>\n",
       "      <td>Middle Eastern</td>\n",
       "      <td>no</td>\n",
       "      <td>no</td>\n",
       "      <td>Jordan</td>\n",
       "      <td>no</td>\n",
       "      <td>5</td>\n",
       "      <td>4-11 years</td>\n",
       "      <td>Parent</td>\n",
       "      <td>NO</td>\n",
       "    </tr>\n",
       "    <tr>\n",
       "      <th>2</th>\n",
       "      <td>3</td>\n",
       "      <td>1</td>\n",
       "      <td>1</td>\n",
       "      <td>0</td>\n",
       "      <td>0</td>\n",
       "      <td>0</td>\n",
       "      <td>1</td>\n",
       "      <td>1</td>\n",
       "      <td>1</td>\n",
       "      <td>0</td>\n",
       "      <td>...</td>\n",
       "      <td>m</td>\n",
       "      <td>NaN</td>\n",
       "      <td>no</td>\n",
       "      <td>no</td>\n",
       "      <td>Jordan</td>\n",
       "      <td>yes</td>\n",
       "      <td>5</td>\n",
       "      <td>4-11 years</td>\n",
       "      <td>NaN</td>\n",
       "      <td>NO</td>\n",
       "    </tr>\n",
       "    <tr>\n",
       "      <th>3</th>\n",
       "      <td>4</td>\n",
       "      <td>0</td>\n",
       "      <td>1</td>\n",
       "      <td>0</td>\n",
       "      <td>0</td>\n",
       "      <td>1</td>\n",
       "      <td>1</td>\n",
       "      <td>0</td>\n",
       "      <td>0</td>\n",
       "      <td>0</td>\n",
       "      <td>...</td>\n",
       "      <td>f</td>\n",
       "      <td>NaN</td>\n",
       "      <td>yes</td>\n",
       "      <td>no</td>\n",
       "      <td>Jordan</td>\n",
       "      <td>no</td>\n",
       "      <td>4</td>\n",
       "      <td>4-11 years</td>\n",
       "      <td>NaN</td>\n",
       "      <td>NO</td>\n",
       "    </tr>\n",
       "    <tr>\n",
       "      <th>4</th>\n",
       "      <td>5</td>\n",
       "      <td>1</td>\n",
       "      <td>1</td>\n",
       "      <td>1</td>\n",
       "      <td>1</td>\n",
       "      <td>1</td>\n",
       "      <td>1</td>\n",
       "      <td>1</td>\n",
       "      <td>1</td>\n",
       "      <td>1</td>\n",
       "      <td>...</td>\n",
       "      <td>m</td>\n",
       "      <td>Others</td>\n",
       "      <td>yes</td>\n",
       "      <td>no</td>\n",
       "      <td>United States</td>\n",
       "      <td>no</td>\n",
       "      <td>10</td>\n",
       "      <td>4-11 years</td>\n",
       "      <td>Parent</td>\n",
       "      <td>YES</td>\n",
       "    </tr>\n",
       "    <tr>\n",
       "      <th>...</th>\n",
       "      <td>...</td>\n",
       "      <td>...</td>\n",
       "      <td>...</td>\n",
       "      <td>...</td>\n",
       "      <td>...</td>\n",
       "      <td>...</td>\n",
       "      <td>...</td>\n",
       "      <td>...</td>\n",
       "      <td>...</td>\n",
       "      <td>...</td>\n",
       "      <td>...</td>\n",
       "      <td>...</td>\n",
       "      <td>...</td>\n",
       "      <td>...</td>\n",
       "      <td>...</td>\n",
       "      <td>...</td>\n",
       "      <td>...</td>\n",
       "      <td>...</td>\n",
       "      <td>...</td>\n",
       "      <td>...</td>\n",
       "      <td>...</td>\n",
       "    </tr>\n",
       "    <tr>\n",
       "      <th>287</th>\n",
       "      <td>288</td>\n",
       "      <td>1</td>\n",
       "      <td>1</td>\n",
       "      <td>1</td>\n",
       "      <td>1</td>\n",
       "      <td>1</td>\n",
       "      <td>1</td>\n",
       "      <td>1</td>\n",
       "      <td>1</td>\n",
       "      <td>1</td>\n",
       "      <td>...</td>\n",
       "      <td>f</td>\n",
       "      <td>White-European</td>\n",
       "      <td>yes</td>\n",
       "      <td>yes</td>\n",
       "      <td>United Kingdom</td>\n",
       "      <td>no</td>\n",
       "      <td>10</td>\n",
       "      <td>4-11 years</td>\n",
       "      <td>Parent</td>\n",
       "      <td>YES</td>\n",
       "    </tr>\n",
       "    <tr>\n",
       "      <th>288</th>\n",
       "      <td>289</td>\n",
       "      <td>1</td>\n",
       "      <td>0</td>\n",
       "      <td>0</td>\n",
       "      <td>0</td>\n",
       "      <td>1</td>\n",
       "      <td>0</td>\n",
       "      <td>1</td>\n",
       "      <td>0</td>\n",
       "      <td>0</td>\n",
       "      <td>...</td>\n",
       "      <td>f</td>\n",
       "      <td>White-European</td>\n",
       "      <td>yes</td>\n",
       "      <td>yes</td>\n",
       "      <td>Australia</td>\n",
       "      <td>no</td>\n",
       "      <td>4</td>\n",
       "      <td>4-11 years</td>\n",
       "      <td>Parent</td>\n",
       "      <td>NO</td>\n",
       "    </tr>\n",
       "    <tr>\n",
       "      <th>289</th>\n",
       "      <td>290</td>\n",
       "      <td>1</td>\n",
       "      <td>0</td>\n",
       "      <td>1</td>\n",
       "      <td>1</td>\n",
       "      <td>1</td>\n",
       "      <td>1</td>\n",
       "      <td>1</td>\n",
       "      <td>0</td>\n",
       "      <td>0</td>\n",
       "      <td>...</td>\n",
       "      <td>m</td>\n",
       "      <td>Latino</td>\n",
       "      <td>no</td>\n",
       "      <td>no</td>\n",
       "      <td>Brazil</td>\n",
       "      <td>no</td>\n",
       "      <td>7</td>\n",
       "      <td>4-11 years</td>\n",
       "      <td>Parent</td>\n",
       "      <td>YES</td>\n",
       "    </tr>\n",
       "    <tr>\n",
       "      <th>290</th>\n",
       "      <td>291</td>\n",
       "      <td>1</td>\n",
       "      <td>1</td>\n",
       "      <td>1</td>\n",
       "      <td>0</td>\n",
       "      <td>1</td>\n",
       "      <td>1</td>\n",
       "      <td>1</td>\n",
       "      <td>1</td>\n",
       "      <td>1</td>\n",
       "      <td>...</td>\n",
       "      <td>m</td>\n",
       "      <td>South Asian</td>\n",
       "      <td>no</td>\n",
       "      <td>no</td>\n",
       "      <td>India</td>\n",
       "      <td>no</td>\n",
       "      <td>9</td>\n",
       "      <td>4-11 years</td>\n",
       "      <td>Parent</td>\n",
       "      <td>YES</td>\n",
       "    </tr>\n",
       "    <tr>\n",
       "      <th>291</th>\n",
       "      <td>292</td>\n",
       "      <td>0</td>\n",
       "      <td>0</td>\n",
       "      <td>1</td>\n",
       "      <td>0</td>\n",
       "      <td>1</td>\n",
       "      <td>0</td>\n",
       "      <td>1</td>\n",
       "      <td>0</td>\n",
       "      <td>0</td>\n",
       "      <td>...</td>\n",
       "      <td>f</td>\n",
       "      <td>South Asian</td>\n",
       "      <td>no</td>\n",
       "      <td>no</td>\n",
       "      <td>India</td>\n",
       "      <td>no</td>\n",
       "      <td>3</td>\n",
       "      <td>4-11 years</td>\n",
       "      <td>Parent</td>\n",
       "      <td>NO</td>\n",
       "    </tr>\n",
       "  </tbody>\n",
       "</table>\n",
       "<p>292 rows × 22 columns</p>\n",
       "</div>"
      ],
      "text/plain": [
       "      id  A1_Score  A2_Score  A3_Score  A4_Score  A5_Score  A6_Score  \\\n",
       "0      1         1         1         0         0         1         1   \n",
       "1      2         1         1         0         0         1         1   \n",
       "2      3         1         1         0         0         0         1   \n",
       "3      4         0         1         0         0         1         1   \n",
       "4      5         1         1         1         1         1         1   \n",
       "..   ...       ...       ...       ...       ...       ...       ...   \n",
       "287  288         1         1         1         1         1         1   \n",
       "288  289         1         0         0         0         1         0   \n",
       "289  290         1         0         1         1         1         1   \n",
       "290  291         1         1         1         0         1         1   \n",
       "291  292         0         0         1         0         1         0   \n",
       "\n",
       "     A7_Score  A8_Score  A9_Score  ...  gender        ethnicity jundice  \\\n",
       "0           0         1         0  ...       m           Others      no   \n",
       "1           0         1         0  ...       m  Middle Eastern       no   \n",
       "2           1         1         0  ...       m              NaN      no   \n",
       "3           0         0         0  ...       f              NaN     yes   \n",
       "4           1         1         1  ...       m           Others     yes   \n",
       "..        ...       ...       ...  ...     ...              ...     ...   \n",
       "287         1         1         1  ...       f   White-European     yes   \n",
       "288         1         0         0  ...       f   White-European     yes   \n",
       "289         1         0         0  ...       m           Latino      no   \n",
       "290         1         1         1  ...       m      South Asian      no   \n",
       "291         1         0         0  ...       f      South Asian      no   \n",
       "\n",
       "    austim   contry_of_res used_app_before result    age_desc  relation  \\\n",
       "0       no          Jordan              no      5  4-11 years    Parent   \n",
       "1       no          Jordan              no      5  4-11 years    Parent   \n",
       "2       no          Jordan             yes      5  4-11 years       NaN   \n",
       "3       no          Jordan              no      4  4-11 years       NaN   \n",
       "4       no   United States              no     10  4-11 years    Parent   \n",
       "..     ...             ...             ...    ...         ...       ...   \n",
       "287    yes  United Kingdom              no     10  4-11 years    Parent   \n",
       "288    yes       Australia              no      4  4-11 years    Parent   \n",
       "289     no          Brazil              no      7  4-11 years    Parent   \n",
       "290     no           India              no      9  4-11 years    Parent   \n",
       "291     no           India              no      3  4-11 years    Parent   \n",
       "\n",
       "    Class/ASD  \n",
       "0          NO  \n",
       "1          NO  \n",
       "2          NO  \n",
       "3          NO  \n",
       "4         YES  \n",
       "..        ...  \n",
       "287       YES  \n",
       "288        NO  \n",
       "289       YES  \n",
       "290       YES  \n",
       "291        NO  \n",
       "\n",
       "[292 rows x 22 columns]"
      ]
     },
     "execution_count": 105,
     "metadata": {},
     "output_type": "execute_result"
    }
   ],
   "source": [
    "filtro"
   ]
  },
  {
   "cell_type": "markdown",
   "id": "42054487",
   "metadata": {},
   "source": [
    "### Comenzamos la Filtación de nuestros datos númericos"
   ]
  },
  {
   "cell_type": "code",
   "execution_count": 118,
   "id": "4c5b2a24",
   "metadata": {},
   "outputs": [],
   "source": [
    "filtro_autismo=autismo[[\"id\",\"A1_Score\", \"A2_Score\", \"A3_Score\", \"A4_Score\", \"A5_Score\", \"A6_Score\", \"A7_Score\", \"A8_Score\" ,\"A9_Score\",\"A10_Score\"]]\n"
   ]
  },
  {
   "cell_type": "code",
   "execution_count": 119,
   "id": "1933fde5",
   "metadata": {},
   "outputs": [
    {
     "data": {
      "text/html": [
       "<div>\n",
       "<style scoped>\n",
       "    .dataframe tbody tr th:only-of-type {\n",
       "        vertical-align: middle;\n",
       "    }\n",
       "\n",
       "    .dataframe tbody tr th {\n",
       "        vertical-align: top;\n",
       "    }\n",
       "\n",
       "    .dataframe thead th {\n",
       "        text-align: right;\n",
       "    }\n",
       "</style>\n",
       "<table border=\"1\" class=\"dataframe\">\n",
       "  <thead>\n",
       "    <tr style=\"text-align: right;\">\n",
       "      <th></th>\n",
       "      <th>id</th>\n",
       "      <th>A1_Score</th>\n",
       "      <th>A2_Score</th>\n",
       "      <th>A3_Score</th>\n",
       "      <th>A4_Score</th>\n",
       "      <th>A5_Score</th>\n",
       "      <th>A6_Score</th>\n",
       "      <th>A7_Score</th>\n",
       "      <th>A8_Score</th>\n",
       "      <th>A9_Score</th>\n",
       "      <th>A10_Score</th>\n",
       "    </tr>\n",
       "  </thead>\n",
       "  <tbody>\n",
       "    <tr>\n",
       "      <th>0</th>\n",
       "      <td>1</td>\n",
       "      <td>1</td>\n",
       "      <td>1</td>\n",
       "      <td>0</td>\n",
       "      <td>0</td>\n",
       "      <td>1</td>\n",
       "      <td>1</td>\n",
       "      <td>0</td>\n",
       "      <td>1</td>\n",
       "      <td>0</td>\n",
       "      <td>0</td>\n",
       "    </tr>\n",
       "    <tr>\n",
       "      <th>1</th>\n",
       "      <td>2</td>\n",
       "      <td>1</td>\n",
       "      <td>1</td>\n",
       "      <td>0</td>\n",
       "      <td>0</td>\n",
       "      <td>1</td>\n",
       "      <td>1</td>\n",
       "      <td>0</td>\n",
       "      <td>1</td>\n",
       "      <td>0</td>\n",
       "      <td>0</td>\n",
       "    </tr>\n",
       "    <tr>\n",
       "      <th>2</th>\n",
       "      <td>3</td>\n",
       "      <td>1</td>\n",
       "      <td>1</td>\n",
       "      <td>0</td>\n",
       "      <td>0</td>\n",
       "      <td>0</td>\n",
       "      <td>1</td>\n",
       "      <td>1</td>\n",
       "      <td>1</td>\n",
       "      <td>0</td>\n",
       "      <td>0</td>\n",
       "    </tr>\n",
       "    <tr>\n",
       "      <th>3</th>\n",
       "      <td>4</td>\n",
       "      <td>0</td>\n",
       "      <td>1</td>\n",
       "      <td>0</td>\n",
       "      <td>0</td>\n",
       "      <td>1</td>\n",
       "      <td>1</td>\n",
       "      <td>0</td>\n",
       "      <td>0</td>\n",
       "      <td>0</td>\n",
       "      <td>1</td>\n",
       "    </tr>\n",
       "    <tr>\n",
       "      <th>4</th>\n",
       "      <td>5</td>\n",
       "      <td>1</td>\n",
       "      <td>1</td>\n",
       "      <td>1</td>\n",
       "      <td>1</td>\n",
       "      <td>1</td>\n",
       "      <td>1</td>\n",
       "      <td>1</td>\n",
       "      <td>1</td>\n",
       "      <td>1</td>\n",
       "      <td>1</td>\n",
       "    </tr>\n",
       "    <tr>\n",
       "      <th>...</th>\n",
       "      <td>...</td>\n",
       "      <td>...</td>\n",
       "      <td>...</td>\n",
       "      <td>...</td>\n",
       "      <td>...</td>\n",
       "      <td>...</td>\n",
       "      <td>...</td>\n",
       "      <td>...</td>\n",
       "      <td>...</td>\n",
       "      <td>...</td>\n",
       "      <td>...</td>\n",
       "    </tr>\n",
       "    <tr>\n",
       "      <th>287</th>\n",
       "      <td>288</td>\n",
       "      <td>1</td>\n",
       "      <td>1</td>\n",
       "      <td>1</td>\n",
       "      <td>1</td>\n",
       "      <td>1</td>\n",
       "      <td>1</td>\n",
       "      <td>1</td>\n",
       "      <td>1</td>\n",
       "      <td>1</td>\n",
       "      <td>1</td>\n",
       "    </tr>\n",
       "    <tr>\n",
       "      <th>288</th>\n",
       "      <td>289</td>\n",
       "      <td>1</td>\n",
       "      <td>0</td>\n",
       "      <td>0</td>\n",
       "      <td>0</td>\n",
       "      <td>1</td>\n",
       "      <td>0</td>\n",
       "      <td>1</td>\n",
       "      <td>0</td>\n",
       "      <td>0</td>\n",
       "      <td>1</td>\n",
       "    </tr>\n",
       "    <tr>\n",
       "      <th>289</th>\n",
       "      <td>290</td>\n",
       "      <td>1</td>\n",
       "      <td>0</td>\n",
       "      <td>1</td>\n",
       "      <td>1</td>\n",
       "      <td>1</td>\n",
       "      <td>1</td>\n",
       "      <td>1</td>\n",
       "      <td>0</td>\n",
       "      <td>0</td>\n",
       "      <td>1</td>\n",
       "    </tr>\n",
       "    <tr>\n",
       "      <th>290</th>\n",
       "      <td>291</td>\n",
       "      <td>1</td>\n",
       "      <td>1</td>\n",
       "      <td>1</td>\n",
       "      <td>0</td>\n",
       "      <td>1</td>\n",
       "      <td>1</td>\n",
       "      <td>1</td>\n",
       "      <td>1</td>\n",
       "      <td>1</td>\n",
       "      <td>1</td>\n",
       "    </tr>\n",
       "    <tr>\n",
       "      <th>291</th>\n",
       "      <td>292</td>\n",
       "      <td>0</td>\n",
       "      <td>0</td>\n",
       "      <td>1</td>\n",
       "      <td>0</td>\n",
       "      <td>1</td>\n",
       "      <td>0</td>\n",
       "      <td>1</td>\n",
       "      <td>0</td>\n",
       "      <td>0</td>\n",
       "      <td>0</td>\n",
       "    </tr>\n",
       "  </tbody>\n",
       "</table>\n",
       "<p>292 rows × 11 columns</p>\n",
       "</div>"
      ],
      "text/plain": [
       "      id  A1_Score  A2_Score  A3_Score  A4_Score  A5_Score  A6_Score  \\\n",
       "0      1         1         1         0         0         1         1   \n",
       "1      2         1         1         0         0         1         1   \n",
       "2      3         1         1         0         0         0         1   \n",
       "3      4         0         1         0         0         1         1   \n",
       "4      5         1         1         1         1         1         1   \n",
       "..   ...       ...       ...       ...       ...       ...       ...   \n",
       "287  288         1         1         1         1         1         1   \n",
       "288  289         1         0         0         0         1         0   \n",
       "289  290         1         0         1         1         1         1   \n",
       "290  291         1         1         1         0         1         1   \n",
       "291  292         0         0         1         0         1         0   \n",
       "\n",
       "     A7_Score  A8_Score  A9_Score  A10_Score  \n",
       "0           0         1         0          0  \n",
       "1           0         1         0          0  \n",
       "2           1         1         0          0  \n",
       "3           0         0         0          1  \n",
       "4           1         1         1          1  \n",
       "..        ...       ...       ...        ...  \n",
       "287         1         1         1          1  \n",
       "288         1         0         0          1  \n",
       "289         1         0         0          1  \n",
       "290         1         1         1          1  \n",
       "291         1         0         0          0  \n",
       "\n",
       "[292 rows x 11 columns]"
      ]
     },
     "execution_count": 119,
     "metadata": {},
     "output_type": "execute_result"
    }
   ],
   "source": [
    "filtro_autismo\n"
   ]
  },
  {
   "cell_type": "markdown",
   "id": "f12d2151",
   "metadata": {},
   "source": [
    "#### Para poder sacar nuesta mediana, tuvimos que filtrar nuestros datos int, para que nos pudiera sacar nuestro resultado. "
   ]
  },
  {
   "cell_type": "code",
   "execution_count": 120,
   "id": "2c7d62d6",
   "metadata": {},
   "outputs": [
    {
     "name": "stdout",
     "output_type": "stream",
     "text": [
      "A5_Score\n"
     ]
    }
   ],
   "source": [
    "print(statistics.median(filtro_autismo))"
   ]
  },
  {
   "cell_type": "markdown",
   "id": "5979687e",
   "metadata": {},
   "source": [
    "## Gráfico de barra \n"
   ]
  },
  {
   "cell_type": "code",
   "execution_count": 88,
   "id": "8ef213a3",
   "metadata": {},
   "outputs": [
    {
     "data": {
      "text/plain": [
       "<AxesSubplot:>"
      ]
     },
     "execution_count": 88,
     "metadata": {},
     "output_type": "execute_result"
    },
    {
     "data": {
      "image/png": "[encoded data removed]",
      "text/plain": [
       "<Figure size 3600x720 with 1 Axes>"
      ]
     },
     "metadata": {
      "needs_background": "light"
     },
     "output_type": "display_data"
    }
   ],
   "source": [
    "filtro_autismo.plot(figsize=(50,10), kind='bar')"
   ]
  },
  {
   "cell_type": "markdown",
   "id": "33f56216",
   "metadata": {},
   "source": [
    "## Gráfico de línea"
   ]
  },
  {
   "cell_type": "code",
   "execution_count": 142,
   "id": "001fe9f9",
   "metadata": {
    "scrolled": true
   },
   "outputs": [
    {
     "data": {
      "text/plain": [
       "Text(0, 0.5, 'ID')"
      ]
     },
     "execution_count": 142,
     "metadata": {},
     "output_type": "execute_result"
    },
    {
     "data": {
      "image/png": "[encoded data removed]",
      "text/plain": [
       "<Figure size 432x288 with 1 Axes>"
      ]
     },
     "metadata": {
      "needs_background": "light"
     },
     "output_type": "display_data"
    }
   ],
   "source": [
    "autismo.plot()\n",
    "plt.title(\"Resultados de autismo Autismo\", fontsize=20)\n",
    "plt.xlabel(\"Resultados\", fontsize=20)\n",
    "plt.ylabel(\"ID\", fontsize=10)\n",
    "\n"
   ]
  },
  {
   "cell_type": "markdown",
   "id": "55ab51bb",
   "metadata": {},
   "source": [
    "## Gráfico de barra "
   ]
  },
  {
   "cell_type": "code",
   "execution_count": 141,
   "id": "a2600065",
   "metadata": {},
   "outputs": [
    {
     "data": {
      "text/plain": [
       "Text(0, 0.5, 'ID')"
      ]
     },
     "execution_count": 141,
     "metadata": {},
     "output_type": "execute_result"
    },
    {
     "data": {
      "image/png": "[encoded data removed]",
      "text/plain": [
       "<Figure size 3600x720 with 1 Axes>"
      ]
     },
     "metadata": {
      "needs_background": "light"
     },
     "output_type": "display_data"
    }
   ],
   "source": [
    "autismo.plot(figsize=(50,10), kind='bar')\n",
    "plt.title(\"Resultados de autismo Autismo\", fontsize=40)\n",
    "plt.xlabel(\"Resultados\", fontsize=40)\n",
    "plt.ylabel(\"ID\", fontsize=40)"
   ]
  },
  {
   "cell_type": "code",
   "execution_count": 67,
   "id": "fb21a841",
   "metadata": {},
   "outputs": [
    {
     "data": {
      "text/html": [
       "<div>\n",
       "<style scoped>\n",
       "    .dataframe tbody tr th:only-of-type {\n",
       "        vertical-align: middle;\n",
       "    }\n",
       "\n",
       "    .dataframe tbody tr th {\n",
       "        vertical-align: top;\n",
       "    }\n",
       "\n",
       "    .dataframe thead th {\n",
       "        text-align: right;\n",
       "    }\n",
       "</style>\n",
       "<table border=\"1\" class=\"dataframe\">\n",
       "  <thead>\n",
       "    <tr style=\"text-align: right;\">\n",
       "      <th></th>\n",
       "      <th>id</th>\n",
       "      <th>A1_Score</th>\n",
       "      <th>A2_Score</th>\n",
       "      <th>A3_Score</th>\n",
       "      <th>A4_Score</th>\n",
       "      <th>A5_Score</th>\n",
       "      <th>A6_Score</th>\n",
       "      <th>A7_Score</th>\n",
       "      <th>A8_Score</th>\n",
       "      <th>A9_Score</th>\n",
       "      <th>...</th>\n",
       "      <th>gender</th>\n",
       "      <th>ethnicity</th>\n",
       "      <th>jundice</th>\n",
       "      <th>austim</th>\n",
       "      <th>contry_of_res</th>\n",
       "      <th>used_app_before</th>\n",
       "      <th>result</th>\n",
       "      <th>age_desc</th>\n",
       "      <th>relation</th>\n",
       "      <th>Class/ASD</th>\n",
       "    </tr>\n",
       "  </thead>\n",
       "  <tbody>\n",
       "    <tr>\n",
       "      <th>0</th>\n",
       "      <td>1</td>\n",
       "      <td>1</td>\n",
       "      <td>1</td>\n",
       "      <td>0</td>\n",
       "      <td>0</td>\n",
       "      <td>1</td>\n",
       "      <td>1</td>\n",
       "      <td>0</td>\n",
       "      <td>1</td>\n",
       "      <td>0</td>\n",
       "      <td>...</td>\n",
       "      <td>m</td>\n",
       "      <td>Others</td>\n",
       "      <td>no</td>\n",
       "      <td>no</td>\n",
       "      <td>Jordan</td>\n",
       "      <td>no</td>\n",
       "      <td>5</td>\n",
       "      <td>4-11 years</td>\n",
       "      <td>Parent</td>\n",
       "      <td>NO</td>\n",
       "    </tr>\n",
       "    <tr>\n",
       "      <th>1</th>\n",
       "      <td>2</td>\n",
       "      <td>1</td>\n",
       "      <td>1</td>\n",
       "      <td>0</td>\n",
       "      <td>0</td>\n",
       "      <td>1</td>\n",
       "      <td>1</td>\n",
       "      <td>0</td>\n",
       "      <td>1</td>\n",
       "      <td>0</td>\n",
       "      <td>...</td>\n",
       "      <td>m</td>\n",
       "      <td>Middle Eastern</td>\n",
       "      <td>no</td>\n",
       "      <td>no</td>\n",
       "      <td>Jordan</td>\n",
       "      <td>no</td>\n",
       "      <td>5</td>\n",
       "      <td>4-11 years</td>\n",
       "      <td>Parent</td>\n",
       "      <td>NO</td>\n",
       "    </tr>\n",
       "    <tr>\n",
       "      <th>2</th>\n",
       "      <td>3</td>\n",
       "      <td>1</td>\n",
       "      <td>1</td>\n",
       "      <td>0</td>\n",
       "      <td>0</td>\n",
       "      <td>0</td>\n",
       "      <td>1</td>\n",
       "      <td>1</td>\n",
       "      <td>1</td>\n",
       "      <td>0</td>\n",
       "      <td>...</td>\n",
       "      <td>m</td>\n",
       "      <td>?</td>\n",
       "      <td>no</td>\n",
       "      <td>no</td>\n",
       "      <td>Jordan</td>\n",
       "      <td>yes</td>\n",
       "      <td>5</td>\n",
       "      <td>4-11 years</td>\n",
       "      <td>?</td>\n",
       "      <td>NO</td>\n",
       "    </tr>\n",
       "    <tr>\n",
       "      <th>3</th>\n",
       "      <td>4</td>\n",
       "      <td>0</td>\n",
       "      <td>1</td>\n",
       "      <td>0</td>\n",
       "      <td>0</td>\n",
       "      <td>1</td>\n",
       "      <td>1</td>\n",
       "      <td>0</td>\n",
       "      <td>0</td>\n",
       "      <td>0</td>\n",
       "      <td>...</td>\n",
       "      <td>f</td>\n",
       "      <td>?</td>\n",
       "      <td>yes</td>\n",
       "      <td>no</td>\n",
       "      <td>Jordan</td>\n",
       "      <td>no</td>\n",
       "      <td>4</td>\n",
       "      <td>4-11 years</td>\n",
       "      <td>?</td>\n",
       "      <td>NO</td>\n",
       "    </tr>\n",
       "    <tr>\n",
       "      <th>4</th>\n",
       "      <td>5</td>\n",
       "      <td>1</td>\n",
       "      <td>1</td>\n",
       "      <td>1</td>\n",
       "      <td>1</td>\n",
       "      <td>1</td>\n",
       "      <td>1</td>\n",
       "      <td>1</td>\n",
       "      <td>1</td>\n",
       "      <td>1</td>\n",
       "      <td>...</td>\n",
       "      <td>m</td>\n",
       "      <td>Others</td>\n",
       "      <td>yes</td>\n",
       "      <td>no</td>\n",
       "      <td>United States</td>\n",
       "      <td>no</td>\n",
       "      <td>10</td>\n",
       "      <td>4-11 years</td>\n",
       "      <td>Parent</td>\n",
       "      <td>YES</td>\n",
       "    </tr>\n",
       "    <tr>\n",
       "      <th>...</th>\n",
       "      <td>...</td>\n",
       "      <td>...</td>\n",
       "      <td>...</td>\n",
       "      <td>...</td>\n",
       "      <td>...</td>\n",
       "      <td>...</td>\n",
       "      <td>...</td>\n",
       "      <td>...</td>\n",
       "      <td>...</td>\n",
       "      <td>...</td>\n",
       "      <td>...</td>\n",
       "      <td>...</td>\n",
       "      <td>...</td>\n",
       "      <td>...</td>\n",
       "      <td>...</td>\n",
       "      <td>...</td>\n",
       "      <td>...</td>\n",
       "      <td>...</td>\n",
       "      <td>...</td>\n",
       "      <td>...</td>\n",
       "      <td>...</td>\n",
       "    </tr>\n",
       "    <tr>\n",
       "      <th>287</th>\n",
       "      <td>288</td>\n",
       "      <td>1</td>\n",
       "      <td>1</td>\n",
       "      <td>1</td>\n",
       "      <td>1</td>\n",
       "      <td>1</td>\n",
       "      <td>1</td>\n",
       "      <td>1</td>\n",
       "      <td>1</td>\n",
       "      <td>1</td>\n",
       "      <td>...</td>\n",
       "      <td>f</td>\n",
       "      <td>White-European</td>\n",
       "      <td>yes</td>\n",
       "      <td>yes</td>\n",
       "      <td>United Kingdom</td>\n",
       "      <td>no</td>\n",
       "      <td>10</td>\n",
       "      <td>4-11 years</td>\n",
       "      <td>Parent</td>\n",
       "      <td>YES</td>\n",
       "    </tr>\n",
       "    <tr>\n",
       "      <th>288</th>\n",
       "      <td>289</td>\n",
       "      <td>1</td>\n",
       "      <td>0</td>\n",
       "      <td>0</td>\n",
       "      <td>0</td>\n",
       "      <td>1</td>\n",
       "      <td>0</td>\n",
       "      <td>1</td>\n",
       "      <td>0</td>\n",
       "      <td>0</td>\n",
       "      <td>...</td>\n",
       "      <td>f</td>\n",
       "      <td>White-European</td>\n",
       "      <td>yes</td>\n",
       "      <td>yes</td>\n",
       "      <td>Australia</td>\n",
       "      <td>no</td>\n",
       "      <td>4</td>\n",
       "      <td>4-11 years</td>\n",
       "      <td>Parent</td>\n",
       "      <td>NO</td>\n",
       "    </tr>\n",
       "    <tr>\n",
       "      <th>289</th>\n",
       "      <td>290</td>\n",
       "      <td>1</td>\n",
       "      <td>0</td>\n",
       "      <td>1</td>\n",
       "      <td>1</td>\n",
       "      <td>1</td>\n",
       "      <td>1</td>\n",
       "      <td>1</td>\n",
       "      <td>0</td>\n",
       "      <td>0</td>\n",
       "      <td>...</td>\n",
       "      <td>m</td>\n",
       "      <td>Latino</td>\n",
       "      <td>no</td>\n",
       "      <td>no</td>\n",
       "      <td>Brazil</td>\n",
       "      <td>no</td>\n",
       "      <td>7</td>\n",
       "      <td>4-11 years</td>\n",
       "      <td>Parent</td>\n",
       "      <td>YES</td>\n",
       "    </tr>\n",
       "    <tr>\n",
       "      <th>290</th>\n",
       "      <td>291</td>\n",
       "      <td>1</td>\n",
       "      <td>1</td>\n",
       "      <td>1</td>\n",
       "      <td>0</td>\n",
       "      <td>1</td>\n",
       "      <td>1</td>\n",
       "      <td>1</td>\n",
       "      <td>1</td>\n",
       "      <td>1</td>\n",
       "      <td>...</td>\n",
       "      <td>m</td>\n",
       "      <td>South Asian</td>\n",
       "      <td>no</td>\n",
       "      <td>no</td>\n",
       "      <td>India</td>\n",
       "      <td>no</td>\n",
       "      <td>9</td>\n",
       "      <td>4-11 years</td>\n",
       "      <td>Parent</td>\n",
       "      <td>YES</td>\n",
       "    </tr>\n",
       "    <tr>\n",
       "      <th>291</th>\n",
       "      <td>292</td>\n",
       "      <td>0</td>\n",
       "      <td>0</td>\n",
       "      <td>1</td>\n",
       "      <td>0</td>\n",
       "      <td>1</td>\n",
       "      <td>0</td>\n",
       "      <td>1</td>\n",
       "      <td>0</td>\n",
       "      <td>0</td>\n",
       "      <td>...</td>\n",
       "      <td>f</td>\n",
       "      <td>South Asian</td>\n",
       "      <td>no</td>\n",
       "      <td>no</td>\n",
       "      <td>India</td>\n",
       "      <td>no</td>\n",
       "      <td>3</td>\n",
       "      <td>4-11 years</td>\n",
       "      <td>Parent</td>\n",
       "      <td>NO</td>\n",
       "    </tr>\n",
       "  </tbody>\n",
       "</table>\n",
       "<p>292 rows × 22 columns</p>\n",
       "</div>"
      ],
      "text/plain": [
       "      id  A1_Score  A2_Score  A3_Score  A4_Score  A5_Score  A6_Score  \\\n",
       "0      1         1         1         0         0         1         1   \n",
       "1      2         1         1         0         0         1         1   \n",
       "2      3         1         1         0         0         0         1   \n",
       "3      4         0         1         0         0         1         1   \n",
       "4      5         1         1         1         1         1         1   \n",
       "..   ...       ...       ...       ...       ...       ...       ...   \n",
       "287  288         1         1         1         1         1         1   \n",
       "288  289         1         0         0         0         1         0   \n",
       "289  290         1         0         1         1         1         1   \n",
       "290  291         1         1         1         0         1         1   \n",
       "291  292         0         0         1         0         1         0   \n",
       "\n",
       "     A7_Score  A8_Score  A9_Score  ...  gender        ethnicity jundice  \\\n",
       "0           0         1         0  ...       m           Others      no   \n",
       "1           0         1         0  ...       m  Middle Eastern       no   \n",
       "2           1         1         0  ...       m                ?      no   \n",
       "3           0         0         0  ...       f                ?     yes   \n",
       "4           1         1         1  ...       m           Others     yes   \n",
       "..        ...       ...       ...  ...     ...              ...     ...   \n",
       "287         1         1         1  ...       f   White-European     yes   \n",
       "288         1         0         0  ...       f   White-European     yes   \n",
       "289         1         0         0  ...       m           Latino      no   \n",
       "290         1         1         1  ...       m      South Asian      no   \n",
       "291         1         0         0  ...       f      South Asian      no   \n",
       "\n",
       "    austim   contry_of_res used_app_before result    age_desc  relation  \\\n",
       "0       no          Jordan              no      5  4-11 years    Parent   \n",
       "1       no          Jordan              no      5  4-11 years    Parent   \n",
       "2       no          Jordan             yes      5  4-11 years         ?   \n",
       "3       no          Jordan              no      4  4-11 years         ?   \n",
       "4       no   United States              no     10  4-11 years    Parent   \n",
       "..     ...             ...             ...    ...         ...       ...   \n",
       "287    yes  United Kingdom              no     10  4-11 years    Parent   \n",
       "288    yes       Australia              no      4  4-11 years    Parent   \n",
       "289     no          Brazil              no      7  4-11 years    Parent   \n",
       "290     no           India              no      9  4-11 years    Parent   \n",
       "291     no           India              no      3  4-11 years    Parent   \n",
       "\n",
       "    Class/ASD  \n",
       "0          NO  \n",
       "1          NO  \n",
       "2          NO  \n",
       "3          NO  \n",
       "4         YES  \n",
       "..        ...  \n",
       "287       YES  \n",
       "288        NO  \n",
       "289       YES  \n",
       "290       YES  \n",
       "291        NO  \n",
       "\n",
       "[292 rows x 22 columns]"
      ]
     },
     "execution_count": 67,
     "metadata": {},
     "output_type": "execute_result"
    }
   ],
   "source": [
    "autismo"
   ]
  },
  {
   "cell_type": "markdown",
   "id": "4101cbc2",
   "metadata": {},
   "source": [
    "## Histograma "
   ]
  },
  {
   "cell_type": "code",
   "execution_count": 73,
   "id": "8cc5d9ef",
   "metadata": {},
   "outputs": [
    {
     "data": {
      "text/plain": [
       "array([[<AxesSubplot:title={'center':'id'}>,\n",
       "        <AxesSubplot:title={'center':'A1_Score'}>,\n",
       "        <AxesSubplot:title={'center':'A2_Score'}>],\n",
       "       [<AxesSubplot:title={'center':'A3_Score'}>,\n",
       "        <AxesSubplot:title={'center':'A4_Score'}>,\n",
       "        <AxesSubplot:title={'center':'A5_Score'}>],\n",
       "       [<AxesSubplot:title={'center':'A6_Score'}>,\n",
       "        <AxesSubplot:title={'center':'A7_Score'}>,\n",
       "        <AxesSubplot:title={'center':'A8_Score'}>],\n",
       "       [<AxesSubplot:title={'center':'A9_Score'}>,\n",
       "        <AxesSubplot:title={'center':'A10_Score'}>,\n",
       "        <AxesSubplot:title={'center':'result'}>]], dtype=object)"
      ]
     },
     "execution_count": 73,
     "metadata": {},
     "output_type": "execute_result"
    },
    {
     "data": {
      "image/png": "[encoded data removed]",
      "text/plain": [
       "<Figure size 432x288 with 12 Axes>"
      ]
     },
     "metadata": {
      "needs_background": "light"
     },
     "output_type": "display_data"
    }
   ],
   "source": [
    "autismo.hist()"
   ]
  },
  {
   "cell_type": "markdown",
   "id": "0e3e54b3",
   "metadata": {},
   "source": []
  },
  {
   "cell_type": "code",
   "execution_count": 85,
   "id": "f1c5d9bf",
   "metadata": {},
   "outputs": [
    {
     "data": {
      "text/plain": [
       "array([[<AxesSubplot:title={'center':'id'}>,\n",
       "        <AxesSubplot:title={'center':'A1_Score'}>,\n",
       "        <AxesSubplot:title={'center':'A2_Score'}>],\n",
       "       [<AxesSubplot:title={'center':'A3_Score'}>,\n",
       "        <AxesSubplot:title={'center':'A4_Score'}>,\n",
       "        <AxesSubplot:title={'center':'A5_Score'}>],\n",
       "       [<AxesSubplot:title={'center':'A6_Score'}>,\n",
       "        <AxesSubplot:title={'center':'A7_Score'}>,\n",
       "        <AxesSubplot:title={'center':'A8_Score'}>],\n",
       "       [<AxesSubplot:title={'center':'A9_Score'}>,\n",
       "        <AxesSubplot:title={'center':'A10_Score'}>, <AxesSubplot:>]],\n",
       "      dtype=object)"
      ]
     },
     "execution_count": 85,
     "metadata": {},
     "output_type": "execute_result"
    },
    {
     "data": {
      "image/png": "[encoded data removed]",
      "text/plain": [
       "<Figure size 432x288 with 12 Axes>"
      ]
     },
     "metadata": {
      "needs_background": "light"
     },
     "output_type": "display_data"
    }
   ],
   "source": [
    "filtro_autismo.hist()"
   ]
  },
  {
   "cell_type": "code",
   "execution_count": 140,
   "id": "2975aa84",
   "metadata": {},
   "outputs": [
    {
     "data": {
      "text/plain": [
       "Text(0, 0.5, 'ID')"
      ]
     },
     "execution_count": 140,
     "metadata": {},
     "output_type": "execute_result"
    },
    {
     "data": {
      "image/png": "[encoded data removed]",
      "text/plain": [
       "<Figure size 432x288 with 1 Axes>"
      ]
     },
     "metadata": {
      "needs_background": "light"
     },
     "output_type": "display_data"
    }
   ],
   "source": [
    "autismo.hist('result')\n",
    "plt.title(\"Resultados de autismo Autismo\", fontsize=20)\n",
    "plt.xlabel(\"Resultados\", fontsize=20)\n",
    "plt.ylabel(\"ID\", fontsize=20)"
   ]
  },
  {
   "cell_type": "markdown",
   "id": "700911d8",
   "metadata": {},
   "source": [
    "## Gráfico de Caja"
   ]
  },
  {
   "cell_type": "code",
   "execution_count": 139,
   "id": "ea49bced",
   "metadata": {},
   "outputs": [
    {
     "data": {
      "text/plain": [
       "Text(0, 0.5, 'ID')"
      ]
     },
     "execution_count": 139,
     "metadata": {},
     "output_type": "execute_result"
    },
    {
     "data": {
      "image/png": "[encoded data removed]",
      "text/plain": [
       "<Figure size 3600x720 with 1 Axes>"
      ]
     },
     "metadata": {
      "needs_background": "light"
     },
     "output_type": "display_data"
    }
   ],
   "source": [
    "autismo.boxplot(figsize=(50,10))\n",
    "plt.title(\"Resultados de autismo Autismo\", fontsize=40)\n",
    "plt.xlabel(\"Resultados\", fontsize=40)\n",
    "plt.ylabel(\"ID\", fontsize=40)"
   ]
  },
  {
   "cell_type": "code",
   "execution_count": 138,
   "id": "a84e44bf",
   "metadata": {},
   "outputs": [
    {
     "data": {
      "text/plain": [
       "Text(0, 0.5, 'ID')"
      ]
     },
     "execution_count": 138,
     "metadata": {},
     "output_type": "execute_result"
    },
    {
     "data": {
      "image/png": "[encoded data removed]",
      "text/plain": [
       "<Figure size 432x288 with 1 Axes>"
      ]
     },
     "metadata": {
      "needs_background": "light"
     },
     "output_type": "display_data"
    }
   ],
   "source": [
    "autismo.boxplot('result')\n",
    "plt.title(\"Resultados de Autismo\", fontsize=20)\n",
    "plt.xlabel(\"Resultados\", fontsize=10)\n",
    "plt.ylabel(\"ID\", fontsize=10)"
   ]
  },
  {
   "cell_type": "code",
   "execution_count": 136,
   "id": "86c720c9",
   "metadata": {},
   "outputs": [
    {
     "data": {
      "text/plain": [
       "Text(0, 0.5, 'ID')"
      ]
     },
     "execution_count": 136,
     "metadata": {},
     "output_type": "execute_result"
    },
    {
     "data": {
      "image/png": "[encoded data removed]",
      "text/plain": [
       "<Figure size 432x288 with 1 Axes>"
      ]
     },
     "metadata": {
      "needs_background": "light"
     },
     "output_type": "display_data"
    }
   ],
   "source": [
    "autismo[\"result\"].plot.kde()\n",
    "plt.title(\"Resultados de autismo Autismo\", fontsize=20)\n",
    "plt.xlabel(\"Resultados\", fontsize=20)\n",
    "plt.ylabel(\"ID\", fontsize=20)"
   ]
  },
  {
   "cell_type": "markdown",
   "id": "cdfddd10",
   "metadata": {},
   "source": [
    "## Gráfico de dispersión\n"
   ]
  },
  {
   "cell_type": "code",
   "execution_count": 134,
   "id": "44ad7ebd",
   "metadata": {},
   "outputs": [
    {
     "data": {
      "image/png": "[encoded data removed]",
      "text/plain": [
       "<Figure size 3600x720 with 1 Axes>"
      ]
     },
     "metadata": {
      "needs_background": "light"
     },
     "output_type": "display_data"
    }
   ],
   "source": [
    "fig,ax=plt.subplots(figsize=(50,10))\n",
    "ax.scatter(x=autismo['result'], y=autismo[\"id\"])\n",
    "plt.title(\"Resultados de autismo Autismo\", fontsize=40)\n",
    "plt.xlabel(\"Resultados\", fontsize=40)\n",
    "plt.ylabel(\"ID\", fontsize=40)\n",
    "plt.show()\n"
   ]
  }
 ],
 "metadata": {
  "kernelspec": {
   "display_name": "Python 3",
   "language": "python",
   "name": "python3"
  },
  "language_info": {
   "codemirror_mode": {
    "name": "ipython",
    "version": 3
   },
   "file_extension": ".py",
   "mimetype": "text/x-python",
   "name": "python",
   "nbconvert_exporter": "python",
   "pygments_lexer": "ipython3",
   "version": "3.8.8"
  }
 },
 "nbformat": 4,
 "nbformat_minor": 5
}
